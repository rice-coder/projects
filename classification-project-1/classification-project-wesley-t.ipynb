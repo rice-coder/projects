{
 "cells": [
  {
   "cell_type": "markdown",
   "metadata": {},
   "source": [
    "# Classification Project - Telecom Churn"
   ]
  },
  {
   "cell_type": "code",
   "execution_count": 1,
   "metadata": {},
   "outputs": [],
   "source": [
    "import numpy as np\n",
    "import pandas as pd \n",
    "import seaborn as sns\n",
    "import matplotlib.pyplot as plt\n",
    "import os\n",
    "from copy import deepcopy\n",
    "from scipy.stats import shapiro\n",
    "import scipy.stats as stats\n",
    "from sklearn.preprocessing import LabelEncoder, OrdinalEncoder\n",
    "\n",
    "#parameter settings\n",
    "from IPython.core.interactiveshell import InteractiveShell\n",
    "InteractiveShell.ast_node_interactivity = \"all\"\n",
    "import warnings\n",
    "warnings.filterwarnings(\"ignore\")\n",
    "warnings.simplefilter(action='ignore', category=FutureWarning)"
   ]
  },
  {
   "cell_type": "code",
   "execution_count": 2,
   "metadata": {},
   "outputs": [],
   "source": [
    "cust_df=pd.read_csv(\"mp3_data.csv\")"
   ]
  },
  {
   "cell_type": "code",
   "execution_count": 3,
   "metadata": {},
   "outputs": [
    {
     "data": {
      "text/plain": [
       "(51047, 58)"
      ]
     },
     "execution_count": 3,
     "metadata": {},
     "output_type": "execute_result"
    }
   ],
   "source": [
    "# Type your code here to explore and understand the data better\n",
    "\n",
    "#e.g., identify the dimension of cust_df\n",
    "cust_df.shape"
   ]
  },
  {
   "cell_type": "code",
   "execution_count": 4,
   "metadata": {},
   "outputs": [
    {
     "data": {
      "text/html": [
       "<div>\n",
       "<style scoped>\n",
       "    .dataframe tbody tr th:only-of-type {\n",
       "        vertical-align: middle;\n",
       "    }\n",
       "\n",
       "    .dataframe tbody tr th {\n",
       "        vertical-align: top;\n",
       "    }\n",
       "\n",
       "    .dataframe thead th {\n",
       "        text-align: right;\n",
       "    }\n",
       "</style>\n",
       "<table border=\"1\" class=\"dataframe\">\n",
       "  <thead>\n",
       "    <tr style=\"text-align: right;\">\n",
       "      <th></th>\n",
       "      <th>CustomerID</th>\n",
       "      <th>Churn</th>\n",
       "      <th>MonthlyRevenue</th>\n",
       "      <th>MonthlyMinutes</th>\n",
       "      <th>TotalRecurringCharge</th>\n",
       "      <th>DirectorAssistedCalls</th>\n",
       "      <th>OverageMinutes</th>\n",
       "      <th>RoamingCalls</th>\n",
       "      <th>PercChangeMinutes</th>\n",
       "      <th>PercChangeRevenues</th>\n",
       "      <th>...</th>\n",
       "      <th>ReferralsMadeBySubscriber</th>\n",
       "      <th>IncomeGroup</th>\n",
       "      <th>OwnsMotorcycle</th>\n",
       "      <th>AdjustmentsToCreditRating</th>\n",
       "      <th>HandsetPrice</th>\n",
       "      <th>MadeCallToRetentionTeam</th>\n",
       "      <th>CreditRating</th>\n",
       "      <th>PrizmCode</th>\n",
       "      <th>Occupation</th>\n",
       "      <th>MaritalStatus</th>\n",
       "    </tr>\n",
       "  </thead>\n",
       "  <tbody>\n",
       "    <tr>\n",
       "      <th>0</th>\n",
       "      <td>3000002</td>\n",
       "      <td>Yes</td>\n",
       "      <td>24.00</td>\n",
       "      <td>219.0</td>\n",
       "      <td>22.0</td>\n",
       "      <td>0.25</td>\n",
       "      <td>0.0</td>\n",
       "      <td>0.0</td>\n",
       "      <td>-157.0</td>\n",
       "      <td>-19.0</td>\n",
       "      <td>...</td>\n",
       "      <td>0</td>\n",
       "      <td>4</td>\n",
       "      <td>No</td>\n",
       "      <td>0</td>\n",
       "      <td>30</td>\n",
       "      <td>Yes</td>\n",
       "      <td>1-Highest</td>\n",
       "      <td>Suburban</td>\n",
       "      <td>Professional</td>\n",
       "      <td>No</td>\n",
       "    </tr>\n",
       "    <tr>\n",
       "      <th>1</th>\n",
       "      <td>3000010</td>\n",
       "      <td>Yes</td>\n",
       "      <td>16.99</td>\n",
       "      <td>10.0</td>\n",
       "      <td>17.0</td>\n",
       "      <td>0.00</td>\n",
       "      <td>0.0</td>\n",
       "      <td>0.0</td>\n",
       "      <td>-4.0</td>\n",
       "      <td>0.0</td>\n",
       "      <td>...</td>\n",
       "      <td>0</td>\n",
       "      <td>5</td>\n",
       "      <td>No</td>\n",
       "      <td>0</td>\n",
       "      <td>30</td>\n",
       "      <td>No</td>\n",
       "      <td>4-Medium</td>\n",
       "      <td>Suburban</td>\n",
       "      <td>Professional</td>\n",
       "      <td>Yes</td>\n",
       "    </tr>\n",
       "    <tr>\n",
       "      <th>2</th>\n",
       "      <td>3000014</td>\n",
       "      <td>No</td>\n",
       "      <td>38.00</td>\n",
       "      <td>8.0</td>\n",
       "      <td>38.0</td>\n",
       "      <td>0.00</td>\n",
       "      <td>0.0</td>\n",
       "      <td>0.0</td>\n",
       "      <td>-2.0</td>\n",
       "      <td>0.0</td>\n",
       "      <td>...</td>\n",
       "      <td>0</td>\n",
       "      <td>6</td>\n",
       "      <td>No</td>\n",
       "      <td>0</td>\n",
       "      <td>Unknown</td>\n",
       "      <td>No</td>\n",
       "      <td>3-Good</td>\n",
       "      <td>Town</td>\n",
       "      <td>Crafts</td>\n",
       "      <td>Yes</td>\n",
       "    </tr>\n",
       "    <tr>\n",
       "      <th>3</th>\n",
       "      <td>3000022</td>\n",
       "      <td>No</td>\n",
       "      <td>82.28</td>\n",
       "      <td>1312.0</td>\n",
       "      <td>75.0</td>\n",
       "      <td>1.24</td>\n",
       "      <td>0.0</td>\n",
       "      <td>0.0</td>\n",
       "      <td>157.0</td>\n",
       "      <td>8.1</td>\n",
       "      <td>...</td>\n",
       "      <td>0</td>\n",
       "      <td>6</td>\n",
       "      <td>No</td>\n",
       "      <td>0</td>\n",
       "      <td>10</td>\n",
       "      <td>No</td>\n",
       "      <td>4-Medium</td>\n",
       "      <td>Other</td>\n",
       "      <td>Other</td>\n",
       "      <td>No</td>\n",
       "    </tr>\n",
       "    <tr>\n",
       "      <th>4</th>\n",
       "      <td>3000026</td>\n",
       "      <td>Yes</td>\n",
       "      <td>17.14</td>\n",
       "      <td>0.0</td>\n",
       "      <td>17.0</td>\n",
       "      <td>0.00</td>\n",
       "      <td>0.0</td>\n",
       "      <td>0.0</td>\n",
       "      <td>0.0</td>\n",
       "      <td>-0.2</td>\n",
       "      <td>...</td>\n",
       "      <td>0</td>\n",
       "      <td>9</td>\n",
       "      <td>No</td>\n",
       "      <td>1</td>\n",
       "      <td>10</td>\n",
       "      <td>No</td>\n",
       "      <td>1-Highest</td>\n",
       "      <td>Other</td>\n",
       "      <td>Professional</td>\n",
       "      <td>Yes</td>\n",
       "    </tr>\n",
       "  </tbody>\n",
       "</table>\n",
       "<p>5 rows × 58 columns</p>\n",
       "</div>"
      ],
      "text/plain": [
       "   CustomerID Churn  MonthlyRevenue  MonthlyMinutes  TotalRecurringCharge  \\\n",
       "0     3000002   Yes           24.00           219.0                  22.0   \n",
       "1     3000010   Yes           16.99            10.0                  17.0   \n",
       "2     3000014    No           38.00             8.0                  38.0   \n",
       "3     3000022    No           82.28          1312.0                  75.0   \n",
       "4     3000026   Yes           17.14             0.0                  17.0   \n",
       "\n",
       "   DirectorAssistedCalls  OverageMinutes  RoamingCalls  PercChangeMinutes  \\\n",
       "0                   0.25             0.0           0.0             -157.0   \n",
       "1                   0.00             0.0           0.0               -4.0   \n",
       "2                   0.00             0.0           0.0               -2.0   \n",
       "3                   1.24             0.0           0.0              157.0   \n",
       "4                   0.00             0.0           0.0                0.0   \n",
       "\n",
       "   PercChangeRevenues  ...  ReferralsMadeBySubscriber  IncomeGroup  \\\n",
       "0               -19.0  ...                          0            4   \n",
       "1                 0.0  ...                          0            5   \n",
       "2                 0.0  ...                          0            6   \n",
       "3                 8.1  ...                          0            6   \n",
       "4                -0.2  ...                          0            9   \n",
       "\n",
       "   OwnsMotorcycle  AdjustmentsToCreditRating  HandsetPrice  \\\n",
       "0              No                          0            30   \n",
       "1              No                          0            30   \n",
       "2              No                          0       Unknown   \n",
       "3              No                          0            10   \n",
       "4              No                          1            10   \n",
       "\n",
       "   MadeCallToRetentionTeam  CreditRating  PrizmCode    Occupation  \\\n",
       "0                      Yes     1-Highest   Suburban  Professional   \n",
       "1                       No      4-Medium   Suburban  Professional   \n",
       "2                       No        3-Good       Town        Crafts   \n",
       "3                       No      4-Medium      Other         Other   \n",
       "4                       No     1-Highest      Other  Professional   \n",
       "\n",
       "   MaritalStatus  \n",
       "0             No  \n",
       "1            Yes  \n",
       "2            Yes  \n",
       "3             No  \n",
       "4            Yes  \n",
       "\n",
       "[5 rows x 58 columns]"
      ]
     },
     "execution_count": 4,
     "metadata": {},
     "output_type": "execute_result"
    }
   ],
   "source": [
    "cust_df.head()"
   ]
  },
  {
   "cell_type": "code",
   "execution_count": 5,
   "metadata": {},
   "outputs": [
    {
     "data": {
      "text/plain": [
       "Index(['CustomerID', 'Churn', 'MonthlyRevenue', 'MonthlyMinutes',\n",
       "       'TotalRecurringCharge', 'DirectorAssistedCalls', 'OverageMinutes',\n",
       "       'RoamingCalls', 'PercChangeMinutes', 'PercChangeRevenues',\n",
       "       'DroppedCalls', 'BlockedCalls', 'UnansweredCalls', 'CustomerCareCalls',\n",
       "       'ThreewayCalls', 'ReceivedCalls', 'OutboundCalls', 'InboundCalls',\n",
       "       'PeakCallsInOut', 'OffPeakCallsInOut', 'DroppedBlockedCalls',\n",
       "       'CallForwardingCalls', 'CallWaitingCalls', 'MonthsInService',\n",
       "       'UniqueSubs', 'ActiveSubs', 'ServiceArea', 'Handsets', 'HandsetModels',\n",
       "       'CurrentEquipmentDays', 'AgeHH1', 'AgeHH2', 'ChildrenInHH',\n",
       "       'HandsetRefurbished', 'HandsetWebCapable', 'TruckOwner', 'RVOwner',\n",
       "       'Homeownership', 'BuysViaMailOrder', 'RespondsToMailOffers',\n",
       "       'OptOutMailings', 'NonUSTravel', 'OwnsComputer', 'HasCreditCard',\n",
       "       'RetentionCalls', 'RetentionOffersAccepted', 'NewCellphoneUser',\n",
       "       'NotNewCellphoneUser', 'ReferralsMadeBySubscriber', 'IncomeGroup',\n",
       "       'OwnsMotorcycle', 'AdjustmentsToCreditRating', 'HandsetPrice',\n",
       "       'MadeCallToRetentionTeam', 'CreditRating', 'PrizmCode', 'Occupation',\n",
       "       'MaritalStatus'],\n",
       "      dtype='object')"
      ]
     },
     "execution_count": 5,
     "metadata": {},
     "output_type": "execute_result"
    }
   ],
   "source": [
    "cust_df.columns"
   ]
  },
  {
   "cell_type": "code",
   "execution_count": 6,
   "metadata": {},
   "outputs": [
    {
     "data": {
      "text/plain": [
       "1.0"
      ]
     },
     "execution_count": 6,
     "metadata": {},
     "output_type": "execute_result"
    }
   ],
   "source": [
    "#check unique customer\n",
    "cust_df.CustomerID.nunique()/cust_df.shape[0]"
   ]
  },
  {
   "cell_type": "code",
   "execution_count": 7,
   "metadata": {},
   "outputs": [
    {
     "data": {
      "text/plain": [
       "No     36336\n",
       "Yes    14711\n",
       "Name: Churn, dtype: int64"
      ]
     },
     "execution_count": 7,
     "metadata": {},
     "output_type": "execute_result"
    }
   ],
   "source": [
    "cust_df.Churn.value_counts()"
   ]
  },
  {
   "cell_type": "code",
   "execution_count": 8,
   "metadata": {},
   "outputs": [
    {
     "data": {
      "text/plain": [
       "No     71.18146\n",
       "Yes    28.81854\n",
       "Name: Churn, dtype: float64"
      ]
     },
     "execution_count": 8,
     "metadata": {},
     "output_type": "execute_result"
    }
   ],
   "source": [
    "# % of churn customer\n",
    "100*cust_df.Churn.value_counts()/cust_df.shape[0]"
   ]
  },
  {
   "cell_type": "markdown",
   "metadata": {},
   "source": [
    "## 1. Data Cleaning (Missing value, Outliers, Unexpected value, etc.)"
   ]
  },
  {
   "cell_type": "markdown",
   "metadata": {},
   "source": [
    "### 1.1 Customers with zero monthly revenue"
   ]
  },
  {
   "cell_type": "code",
   "execution_count": 9,
   "metadata": {},
   "outputs": [
    {
     "data": {
      "text/plain": [
       "6"
      ]
     },
     "execution_count": 9,
     "metadata": {},
     "output_type": "execute_result"
    }
   ],
   "source": [
    "#How many customers had zero monthly revenue?\n",
    "#Exclude the customers with zero monthly revenue from cust_df and from any subsequent analysis\n",
    "cust_df[cust_df.MonthlyRevenue== 0].shape[0]\n",
    "\n",
    "cust_df = cust_df[cust_df.MonthlyRevenue > 0.0]\n",
    "\n",
    "## excluding customers with zero monthly minutes from cust_df\n",
    "cust_df = cust_df[cust_df[\"MonthlyMinutes\"]>0.0]"
   ]
  },
  {
   "cell_type": "markdown",
   "metadata": {},
   "source": [
    "### 1.2 Columns with missing values percentage > 5%"
   ]
  },
  {
   "cell_type": "code",
   "execution_count": 10,
   "metadata": {},
   "outputs": [
    {
     "data": {
      "text/plain": [
       "CustomerID                   0.000000\n",
       "Churn                        0.000000\n",
       "MonthlyRevenue               0.000000\n",
       "MonthlyMinutes               0.000000\n",
       "TotalRecurringCharge         0.000000\n",
       "DirectorAssistedCalls        0.000000\n",
       "OverageMinutes               0.000000\n",
       "RoamingCalls                 0.000000\n",
       "PercChangeMinutes            0.344883\n",
       "PercChangeRevenues           0.344883\n",
       "DroppedCalls                 0.000000\n",
       "BlockedCalls                 0.000000\n",
       "UnansweredCalls              0.000000\n",
       "CustomerCareCalls            0.000000\n",
       "ThreewayCalls                0.000000\n",
       "ReceivedCalls                0.000000\n",
       "OutboundCalls                0.000000\n",
       "InboundCalls                 0.000000\n",
       "PeakCallsInOut               0.000000\n",
       "OffPeakCallsInOut            0.000000\n",
       "DroppedBlockedCalls          0.000000\n",
       "CallForwardingCalls          0.000000\n",
       "CallWaitingCalls             0.000000\n",
       "MonthsInService              0.000000\n",
       "UniqueSubs                   0.000000\n",
       "ActiveSubs                   0.000000\n",
       "ServiceArea                  0.047845\n",
       "Handsets                     0.000000\n",
       "HandsetModels                0.000000\n",
       "CurrentEquipmentDays         0.000000\n",
       "AgeHH1                       1.772258\n",
       "AgeHH2                       1.772258\n",
       "ChildrenInHH                 0.000000\n",
       "HandsetRefurbished           0.000000\n",
       "HandsetWebCapable            0.000000\n",
       "TruckOwner                   0.000000\n",
       "RVOwner                      0.000000\n",
       "Homeownership                0.000000\n",
       "BuysViaMailOrder             0.000000\n",
       "RespondsToMailOffers         0.000000\n",
       "OptOutMailings               0.000000\n",
       "NonUSTravel                  0.000000\n",
       "OwnsComputer                 0.000000\n",
       "HasCreditCard                0.000000\n",
       "RetentionCalls               0.000000\n",
       "RetentionOffersAccepted      0.000000\n",
       "NewCellphoneUser             0.000000\n",
       "NotNewCellphoneUser          0.000000\n",
       "ReferralsMadeBySubscriber    0.000000\n",
       "IncomeGroup                  0.000000\n",
       "OwnsMotorcycle               0.000000\n",
       "AdjustmentsToCreditRating    0.000000\n",
       "HandsetPrice                 0.000000\n",
       "MadeCallToRetentionTeam      0.000000\n",
       "CreditRating                 0.000000\n",
       "PrizmCode                    0.000000\n",
       "Occupation                   0.000000\n",
       "MaritalStatus                0.000000\n",
       "dtype: float64"
      ]
     },
     "execution_count": 10,
     "metadata": {},
     "output_type": "execute_result"
    },
    {
     "data": {
      "text/plain": [
       "49078"
      ]
     },
     "execution_count": 10,
     "metadata": {},
     "output_type": "execute_result"
    }
   ],
   "source": [
    "#Calculate for each column % of missing value in the data\n",
    "#How many columns has missing values percentage > 5% \n",
    "\n",
    "## there are no columns with missing value greater than 5%\n",
    "\n",
    "## to check null/na in the data\n",
    "100*(cust_df.isnull().sum()/cust_df.shape[0])\n",
    "\n",
    "#What strategy should be used for imputation?\n",
    "\n",
    "# since the count of missing value is negligible I believe we can simply drop those rows\n",
    "cust_df.dropna(axis=0,inplace=True)\n",
    "cust_df.shape[0]"
   ]
  },
  {
   "cell_type": "markdown",
   "metadata": {},
   "source": [
    "<mark>__Result:__\n",
    "    \n",
    "Type your answer here for how would you impute the missing values (if any)\n",
    "    \n",
    "    \n",
    "    Since the percentage of missing number is small, i believe we can drop the rows with missing data"
   ]
  },
  {
   "cell_type": "markdown",
   "metadata": {},
   "source": [
    "### 1.3 Remove outliers from columns \"UniqueSubs\" and \"DirectorAssistedCalls\""
   ]
  },
  {
   "cell_type": "code",
   "execution_count": 11,
   "metadata": {},
   "outputs": [
    {
     "data": {
      "text/plain": [
       "<AxesSubplot:>"
      ]
     },
     "execution_count": 11,
     "metadata": {},
     "output_type": "execute_result"
    },
    {
     "data": {
      "image/png": "[encoded data removed]",
      "text/plain": [
       "<Figure size 432x288 with 1 Axes>"
      ]
     },
     "metadata": {
      "needs_background": "light"
     },
     "output_type": "display_data"
    }
   ],
   "source": [
    "#plot box plot using pandas for columns \"UniqueSubs\" and \"DirectorAssistedCalls\"\n",
    "cols=[\"UniqueSubs\",\"DirectorAssistedCalls\"]\n",
    "cust_df.boxplot(column=cols)"
   ]
  },
  {
   "cell_type": "code",
   "execution_count": 12,
   "metadata": {},
   "outputs": [
    {
     "data": {
      "text/html": [
       "<div>\n",
       "<style scoped>\n",
       "    .dataframe tbody tr th:only-of-type {\n",
       "        vertical-align: middle;\n",
       "    }\n",
       "\n",
       "    .dataframe tbody tr th {\n",
       "        vertical-align: top;\n",
       "    }\n",
       "\n",
       "    .dataframe thead th {\n",
       "        text-align: right;\n",
       "    }\n",
       "</style>\n",
       "<table border=\"1\" class=\"dataframe\">\n",
       "  <thead>\n",
       "    <tr style=\"text-align: right;\">\n",
       "      <th></th>\n",
       "      <th>UniqueSubs</th>\n",
       "      <th>DirectorAssistedCalls</th>\n",
       "    </tr>\n",
       "  </thead>\n",
       "  <tbody>\n",
       "    <tr>\n",
       "      <th>0.95</th>\n",
       "      <td>3.0</td>\n",
       "      <td>4.21</td>\n",
       "    </tr>\n",
       "    <tr>\n",
       "      <th>0.96</th>\n",
       "      <td>3.0</td>\n",
       "      <td>4.70</td>\n",
       "    </tr>\n",
       "    <tr>\n",
       "      <th>0.97</th>\n",
       "      <td>4.0</td>\n",
       "      <td>5.69</td>\n",
       "    </tr>\n",
       "    <tr>\n",
       "      <th>0.98</th>\n",
       "      <td>4.0</td>\n",
       "      <td>6.93</td>\n",
       "    </tr>\n",
       "    <tr>\n",
       "      <th>0.99</th>\n",
       "      <td>5.0</td>\n",
       "      <td>9.65</td>\n",
       "    </tr>\n",
       "    <tr>\n",
       "      <th>1.00</th>\n",
       "      <td>18.0</td>\n",
       "      <td>159.39</td>\n",
       "    </tr>\n",
       "  </tbody>\n",
       "</table>\n",
       "</div>"
      ],
      "text/plain": [
       "      UniqueSubs  DirectorAssistedCalls\n",
       "0.95         3.0                   4.21\n",
       "0.96         3.0                   4.70\n",
       "0.97         4.0                   5.69\n",
       "0.98         4.0                   6.93\n",
       "0.99         5.0                   9.65\n",
       "1.00        18.0                 159.39"
      ]
     },
     "execution_count": 12,
     "metadata": {},
     "output_type": "execute_result"
    },
    {
     "data": {
      "text/plain": [
       "<AxesSubplot:>"
      ]
     },
     "execution_count": 12,
     "metadata": {},
     "output_type": "execute_result"
    },
    {
     "data": {
      "image/png": "[encoded data removed]",
      "text/plain": [
       "<Figure size 432x288 with 1 Axes>"
      ]
     },
     "metadata": {
      "needs_background": "light"
     },
     "output_type": "display_data"
    }
   ],
   "source": [
    "#Remove top 1% outliers from the above mentioned two columns and plot the box plot again\n",
    "#Use \"quantile\" function to identify top 1% outliers\n",
    "q_value = [i/100 for i in range(95,101,1)]\n",
    "cust_df[cols].quantile(q_value)\n",
    "\n",
    "## filtering the cust_df data with 99% value\n",
    "cust_df = cust_df[(cust_df.UniqueSubs <= 5) & (cust_df.DirectorAssistedCalls <= 9.6156)]\n",
    "cols=[\"UniqueSubs\",\"DirectorAssistedCalls\"]\n",
    "cust_df.boxplot(column=cols)"
   ]
  },
  {
   "cell_type": "markdown",
   "metadata": {},
   "source": [
    "## 2. Exploratory Data Analysis (EDA) to analyze customer churn"
   ]
  },
  {
   "cell_type": "markdown",
   "metadata": {},
   "source": [
    "### 2.1 Relationship between high overage minutes and high revenue"
   ]
  },
  {
   "cell_type": "code",
   "execution_count": 13,
   "metadata": {},
   "outputs": [
    {
     "data": {
      "text/plain": [
       "<AxesSubplot:xlabel='MonthlyRevenue', ylabel='OverageMinutes'>"
      ]
     },
     "execution_count": 13,
     "metadata": {},
     "output_type": "execute_result"
    },
    {
     "data": {
      "image/png": "[encoded data removed]",
      "text/plain": [
       "<Figure size 432x288 with 1 Axes>"
      ]
     },
     "metadata": {
      "needs_background": "light"
     },
     "output_type": "display_data"
    }
   ],
   "source": [
    "#use scatter plot to find the correlation between monthly revenue and overage minutes\n",
    "sns.scatterplot(x = 'MonthlyRevenue', y = 'OverageMinutes', data = cust_df)"
   ]
  },
  {
   "cell_type": "code",
   "execution_count": 14,
   "metadata": {},
   "outputs": [
    {
     "data": {
      "text/plain": [
       "Text(0.5, 1.0, 'Non Churned customer')"
      ]
     },
     "execution_count": 14,
     "metadata": {},
     "output_type": "execute_result"
    },
    {
     "data": {
      "text/plain": [
       "<AxesSubplot:title={'center':'Non Churned customer'}, xlabel='MonthlyRevenue', ylabel='OverageMinutes'>"
      ]
     },
     "execution_count": 14,
     "metadata": {},
     "output_type": "execute_result"
    },
    {
     "data": {
      "image/png": "[encoded data removed]",
      "text/plain": [
       "<Figure size 432x288 with 1 Axes>"
      ]
     },
     "metadata": {
      "needs_background": "light"
     },
     "output_type": "display_data"
    },
    {
     "data": {
      "text/plain": [
       "Text(0.5, 1.0, 'Churned customer')"
      ]
     },
     "execution_count": 14,
     "metadata": {},
     "output_type": "execute_result"
    },
    {
     "data": {
      "text/plain": [
       "<AxesSubplot:title={'center':'Churned customer'}, xlabel='MonthlyRevenue', ylabel='OverageMinutes'>"
      ]
     },
     "execution_count": 14,
     "metadata": {},
     "output_type": "execute_result"
    },
    {
     "data": {
      "image/png": "[encoded data removed]",
      "text/plain": [
       "<Figure size 432x288 with 1 Axes>"
      ]
     },
     "metadata": {
      "needs_background": "light"
     },
     "output_type": "display_data"
    }
   ],
   "source": [
    "plt.title(\"Non Churned customer\")\n",
    "sns.scatterplot(x = 'MonthlyRevenue', y = 'OverageMinutes', data = cust_df[cust_df.Churn==\"No\"])\n",
    "plt.show()\n",
    "\n",
    "plt.title(\"Churned customer\")\n",
    "sns.scatterplot(x = 'MonthlyRevenue', y = 'OverageMinutes', data = cust_df[cust_df.Churn==\"Yes\"])\n",
    "plt.show()"
   ]
  },
  {
   "cell_type": "markdown",
   "metadata": {},
   "source": [
    "<mark>__Result:__\n",
    "    \n",
    "Type your interpretation here based on the scatter plot analysis\n",
    "    \n",
    "    there seem to be strong correlation between monthly revenue and overage minutes"
   ]
  },
  {
   "cell_type": "markdown",
   "metadata": {},
   "source": [
    "### 2.2 Relationship between high number of active subscribers and monthly revenue"
   ]
  },
  {
   "cell_type": "code",
   "execution_count": 15,
   "metadata": {},
   "outputs": [
    {
     "data": {
      "text/plain": [
       "<seaborn.axisgrid.FacetGrid at 0x1e33c0248e0>"
      ]
     },
     "execution_count": 15,
     "metadata": {},
     "output_type": "execute_result"
    },
    {
     "data": {
      "image/png": "[encoded data removed]",
      "text/plain": [
       "<Figure size 360x360 with 1 Axes>"
      ]
     },
     "metadata": {
      "needs_background": "light"
     },
     "output_type": "display_data"
    }
   ],
   "source": [
    "#use category plot to plot monthly revenue for each active subs category\n",
    "sns.catplot(x=\"ActiveSubs\",y=\"MonthlyRevenue\",data = cust_df ) "
   ]
  },
  {
   "cell_type": "markdown",
   "metadata": {},
   "source": [
    "<mark>__Result:__\n",
    "    \n",
    "Type your interpretation here based on the category plot analysis\n",
    "    \n",
    "    It seems with the higher number of category plot the monthly revenue decreases "
   ]
  },
  {
   "cell_type": "markdown",
   "metadata": {},
   "source": [
    "### 2.3 Credit rating and impact on churn rate"
   ]
  },
  {
   "cell_type": "code",
   "execution_count": 16,
   "metadata": {},
   "outputs": [
    {
     "data": {
      "text/html": [
       "<div>\n",
       "<style scoped>\n",
       "    .dataframe tbody tr th:only-of-type {\n",
       "        vertical-align: middle;\n",
       "    }\n",
       "\n",
       "    .dataframe tbody tr th {\n",
       "        vertical-align: top;\n",
       "    }\n",
       "\n",
       "    .dataframe thead th {\n",
       "        text-align: right;\n",
       "    }\n",
       "</style>\n",
       "<table border=\"1\" class=\"dataframe\">\n",
       "  <thead>\n",
       "    <tr style=\"text-align: right;\">\n",
       "      <th>CreditRating</th>\n",
       "      <th>1-Highest</th>\n",
       "      <th>2-High</th>\n",
       "      <th>3-Good</th>\n",
       "      <th>4-Medium</th>\n",
       "      <th>5-Low</th>\n",
       "      <th>6-VeryLow</th>\n",
       "      <th>7-Lowest</th>\n",
       "    </tr>\n",
       "    <tr>\n",
       "      <th>Churn</th>\n",
       "      <th></th>\n",
       "      <th></th>\n",
       "      <th></th>\n",
       "      <th></th>\n",
       "      <th></th>\n",
       "      <th></th>\n",
       "      <th></th>\n",
       "    </tr>\n",
       "  </thead>\n",
       "  <tbody>\n",
       "    <tr>\n",
       "      <th>No</th>\n",
       "      <td>0.698608</td>\n",
       "      <td>0.7039</td>\n",
       "      <td>0.69738</td>\n",
       "      <td>0.745876</td>\n",
       "      <td>0.785889</td>\n",
       "      <td>0.739905</td>\n",
       "      <td>0.718026</td>\n",
       "    </tr>\n",
       "    <tr>\n",
       "      <th>Yes</th>\n",
       "      <td>0.301392</td>\n",
       "      <td>0.2961</td>\n",
       "      <td>0.30262</td>\n",
       "      <td>0.254124</td>\n",
       "      <td>0.214111</td>\n",
       "      <td>0.260095</td>\n",
       "      <td>0.281974</td>\n",
       "    </tr>\n",
       "  </tbody>\n",
       "</table>\n",
       "</div>"
      ],
      "text/plain": [
       "CreditRating  1-Highest  2-High   3-Good  4-Medium     5-Low  6-VeryLow  \\\n",
       "Churn                                                                     \n",
       "No             0.698608  0.7039  0.69738  0.745876  0.785889   0.739905   \n",
       "Yes            0.301392  0.2961  0.30262  0.254124  0.214111   0.260095   \n",
       "\n",
       "CreditRating  7-Lowest  \n",
       "Churn                   \n",
       "No            0.718026  \n",
       "Yes           0.281974  "
      ]
     },
     "execution_count": 16,
     "metadata": {},
     "output_type": "execute_result"
    },
    {
     "data": {
      "text/html": [
       "<div>\n",
       "<style scoped>\n",
       "    .dataframe tbody tr th:only-of-type {\n",
       "        vertical-align: middle;\n",
       "    }\n",
       "\n",
       "    .dataframe tbody tr th {\n",
       "        vertical-align: top;\n",
       "    }\n",
       "\n",
       "    .dataframe thead th {\n",
       "        text-align: right;\n",
       "    }\n",
       "</style>\n",
       "<table border=\"1\" class=\"dataframe\">\n",
       "  <thead>\n",
       "    <tr style=\"text-align: right;\">\n",
       "      <th>CreditRating</th>\n",
       "      <th>1-Highest</th>\n",
       "      <th>2-High</th>\n",
       "      <th>3-Good</th>\n",
       "      <th>4-Medium</th>\n",
       "      <th>5-Low</th>\n",
       "      <th>6-VeryLow</th>\n",
       "      <th>7-Lowest</th>\n",
       "    </tr>\n",
       "    <tr>\n",
       "      <th>Churn</th>\n",
       "      <th></th>\n",
       "      <th></th>\n",
       "      <th></th>\n",
       "      <th></th>\n",
       "      <th></th>\n",
       "      <th></th>\n",
       "      <th></th>\n",
       "    </tr>\n",
       "  </thead>\n",
       "  <tbody>\n",
       "    <tr>\n",
       "      <th>No</th>\n",
       "      <td>0.161849</td>\n",
       "      <td>0.371062</td>\n",
       "      <td>0.160179</td>\n",
       "      <td>0.109358</td>\n",
       "      <td>0.138555</td>\n",
       "      <td>0.017938</td>\n",
       "      <td>0.041060</td>\n",
       "    </tr>\n",
       "    <tr>\n",
       "      <th>Yes</th>\n",
       "      <td>0.177734</td>\n",
       "      <td>0.397318</td>\n",
       "      <td>0.176928</td>\n",
       "      <td>0.094840</td>\n",
       "      <td>0.096086</td>\n",
       "      <td>0.016051</td>\n",
       "      <td>0.041044</td>\n",
       "    </tr>\n",
       "  </tbody>\n",
       "</table>\n",
       "</div>"
      ],
      "text/plain": [
       "CreditRating  1-Highest    2-High    3-Good  4-Medium     5-Low  6-VeryLow  \\\n",
       "Churn                                                                        \n",
       "No             0.161849  0.371062  0.160179  0.109358  0.138555   0.017938   \n",
       "Yes            0.177734  0.397318  0.176928  0.094840  0.096086   0.016051   \n",
       "\n",
       "CreditRating  7-Lowest  \n",
       "Churn                   \n",
       "No            0.041060  \n",
       "Yes           0.041044  "
      ]
     },
     "execution_count": 16,
     "metadata": {},
     "output_type": "execute_result"
    }
   ],
   "source": [
    "pd.crosstab(cust_df.Churn, cust_df.CreditRating).apply(lambda r: r/r.sum(), axis=0)\n",
    "pd.crosstab(cust_df.Churn, cust_df.CreditRating).apply(lambda r: r/r.sum(), axis=1)"
   ]
  },
  {
   "cell_type": "markdown",
   "metadata": {},
   "source": [
    "<mark>__Result:__\n",
    "    \n",
    "    It seems people irrespective of their credit rating customers are churning and the proportion of churned custmer is \n",
    "    larger on high credit score. "
   ]
  },
  {
   "cell_type": "markdown",
   "metadata": {},
   "source": [
    "## 3. Feature engineering to predict churn"
   ]
  },
  {
   "cell_type": "code",
   "execution_count": 17,
   "metadata": {},
   "outputs": [],
   "source": [
    "#wrapper function to create additional features for churn prediction\n",
    "def create_features(cust_df):\n",
    "    \n",
    "    #3.1 Percent of current active subs over total subs\n",
    "#     cust_df['perc_active_subs'] = cust_df['ActiveSubs'] / cust_df['UniqueSubs']\n",
    "    \n",
    "    #3.2 Percent of recurrent charge to monthly charge\n",
    "    #type your code here to create a new column in cust_df\n",
    "    cust_df['perc_recurrent_charge']= cust_df['TotalRecurringCharge'] / cust_df[\"MonthlyRevenue\"]\n",
    "    \n",
    "    #3.3 Percent of overage minutes over total monthly minutes\n",
    "    #type your code here to create a new column in cust_df\n",
    "    cust_df['perc_overage_minute']= cust_df['OverageMinutes'] / cust_df[\"MonthlyMinutes\"]\n",
    "    \n",
    "    #type your code here to creat any other additional features which you think will help improve your model accuracy\n",
    "    #3.4 Percent of RoamingCalls minutes over total monthly minutes\n",
    "    cust_df['perc_Roaming_Calls']= cust_df['RoamingCalls'] / cust_df[\"MonthlyMinutes\"]\n",
    "\n",
    "    #3.5 Percent of DroppedCalls minutes over total monthly minutes\n",
    "    cust_df['perc_Dropped_Calls']= cust_df['DroppedCalls'] / cust_df[\"MonthlyMinutes\"]\n",
    "    \n",
    "    #3.6 Percent of BlockedCalls minutes over total monthly minutes\n",
    "    cust_df['perc_Blocked_Calls ']= cust_df['BlockedCalls'] / cust_df[\"MonthlyMinutes\"]\n",
    "    \n",
    "    #3.7 Percent of UnansweredCalls minutes over total monthly minutes\n",
    "    cust_df['perc_Unanswered_Calls']= cust_df['UnansweredCalls'] / cust_df[\"MonthlyMinutes\"]\n",
    "    \n",
    "    #3.8 Percent of CustomerCareCalls minutes over total monthly minutes\n",
    "    cust_df['perc_Customer_Care_Calls']= cust_df['CustomerCareCalls'] / cust_df[\"MonthlyMinutes\"]\n",
    "    \n",
    "    #3.9 Percent of ThreewayCalls minutes over total monthly minutes\n",
    "    cust_df['perc_Threeway_Calls']= cust_df['ThreewayCalls'] / cust_df[\"MonthlyMinutes\"]\n",
    "    \n",
    "    #3.10 Percent of ReceivedCalls minutes over total monthly minutes\n",
    "    cust_df['perc_Received_Calls']= cust_df['ReceivedCalls'] / cust_df[\"MonthlyMinutes\"]\n",
    "    \n",
    "    #3.11 Percent of OutboundCalls minutes over total monthly minutes\n",
    "    cust_df['perc_OutboundCalls']= cust_df['OutboundCalls'] / cust_df[\"MonthlyMinutes\"]\n",
    "    \n",
    "    #3.12 Percent of InboundCalls minutes over total monthly minutes\n",
    "    cust_df['perc_Inbound_Calls']= cust_df['InboundCalls'] / cust_df[\"MonthlyMinutes\"]\n",
    "    \n",
    "    #3.13 Percent of PeakCallsInOut minutes over total monthly minutes\n",
    "    cust_df['perc_PeakCalls_InOut']= cust_df['PeakCallsInOut'] / cust_df[\"MonthlyMinutes\"]\n",
    "    \n",
    "    #3.14 Percent of OffPeakCallsInOut minutes over total monthly minutes\n",
    "    cust_df['perc_Off_PeakCalls_InOut']= cust_df['OffPeakCallsInOut'] / cust_df[\"MonthlyMinutes\"]\n",
    "    \n",
    "    #3.15 Percent of OffPeakCallsInOut minutes over total monthly minutes\n",
    "    cust_df['perc_Off_PeakCalls_InOut']= cust_df['OffPeakCallsInOut'] / cust_df[\"MonthlyMinutes\"]\n",
    "    \n",
    "    return cust_df  \n"
   ]
  },
  {
   "cell_type": "code",
   "execution_count": 18,
   "metadata": {},
   "outputs": [],
   "source": [
    "#Make a call to the feature engineering wrapper function for churn prediction\n",
    "cust_df=create_features(cust_df)"
   ]
  },
  {
   "cell_type": "code",
   "execution_count": 19,
   "metadata": {},
   "outputs": [],
   "source": [
    "## A function that helps to separate the columns whether they are categorical or continous variable.\n",
    "## It returns list of categroical and continous variable names\n",
    "def check_categorical(cust_df):\n",
    "    colnames = cust_df.columns\n",
    "    categorical_col = []\n",
    "    continous_col = []\n",
    "    \n",
    "    for i in colnames:\n",
    "        if cust_df[i].nunique() < 20:\n",
    "            if i != \"Churn\":\n",
    "                categorical_col.append(i)\n",
    "        else:\n",
    "            if i not in  [\"CustomerID\",\"ServiceArea\"]:\n",
    "                continous_col.append(i)\n",
    "    \n",
    "    return (categorical_col,continous_col)"
   ]
  },
  {
   "cell_type": "code",
   "execution_count": 20,
   "metadata": {},
   "outputs": [],
   "source": [
    "## a function that does chisqr test to validate whether the categorical variable is idependent of the churn rate or not.\n",
    "## it helps us to filterout the categorical varaibles that has impact on churn.\n",
    "\n",
    "def check_categorical_imp(cust_df,categorical_col):\n",
    "    new_categorical_col = []\n",
    "    for i in categorical_col:\n",
    "        if stats.chi2_contingency(pd.crosstab(cust_df.Churn, cust_df[i]))[1] > 0.05:\n",
    "            pass\n",
    "        else:\n",
    "            new_categorical_col.append(i)\n",
    "            \n",
    "    return new_categorical_col\n"
   ]
  },
  {
   "cell_type": "code",
   "execution_count": 21,
   "metadata": {},
   "outputs": [],
   "source": [
    "categorical_col,continous_col = check_categorical(cust_df)"
   ]
  },
  {
   "cell_type": "code",
   "execution_count": 22,
   "metadata": {},
   "outputs": [
    {
     "data": {
      "text/plain": [
       "(48374, 71)"
      ]
     },
     "execution_count": 22,
     "metadata": {},
     "output_type": "execute_result"
    }
   ],
   "source": [
    "cust_df.shape"
   ]
  },
  {
   "cell_type": "code",
   "execution_count": 23,
   "metadata": {},
   "outputs": [
    {
     "data": {
      "text/plain": [
       "No     34730\n",
       "Yes    13644\n",
       "Name: Churn, dtype: int64"
      ]
     },
     "execution_count": 23,
     "metadata": {},
     "output_type": "execute_result"
    }
   ],
   "source": [
    "cust_df.Churn.value_counts()"
   ]
  },
  {
   "cell_type": "code",
   "execution_count": 24,
   "metadata": {},
   "outputs": [
    {
     "data": {
      "text/plain": [
       "0    50.0\n",
       "1    50.0\n",
       "Name: Churn, dtype: float64"
      ]
     },
     "execution_count": 24,
     "metadata": {},
     "output_type": "execute_result"
    }
   ],
   "source": [
    "cust_df[\"Churn\"]=cust_df[\"Churn\"].replace([ \"Yes\",  \"No\"],  [1,0])\n",
    "class_count_0, class_count_1 = cust_df['Churn'].value_counts()\n",
    "\n",
    "\n",
    "class_0 = cust_df[cust_df['Churn'] == 0]\n",
    "class_1 = cust_df[cust_df['Churn'] == 1]# print the shape of the class\n",
    "\n",
    "class_1_over = class_1.sample(class_count_0, replace=True)\n",
    "\n",
    "test_over = pd.concat([class_1_over, class_0], axis=0)\n",
    "\n",
    "cust_df = test_over\n",
    "y = cust_df.Churn\n",
    "y.value_counts()/len(y)*100\n"
   ]
  },
  {
   "cell_type": "code",
   "execution_count": 25,
   "metadata": {},
   "outputs": [],
   "source": [
    "\n",
    "## filters categorcal and continous column names \n",
    "\n",
    "\n",
    "## passes all categorical variable and returns only those that have impact on the churn. \n",
    "important_categorical_col = check_categorical_imp(cust_df,categorical_col)\n",
    "\n",
    "# ## converting the churn indicator to numeric variable\n",
    "# cust_df[\"Churn\"]=cust_df[\"Churn\"].replace([ \"Yes\",  \"No\"],  [1,0])\n",
    "\n",
    "## storing the churn flag variable in y \n",
    "y = cust_df.Churn\n",
    "customerid = cust_df.CustomerID\n",
    "monthlyrevenue = cust_df.MonthlyRevenue\n",
    "## keeping on the relevant columns from the data\n",
    "cust_df = cust_df[important_categorical_col+continous_col]\n",
    "\n",
    "\n",
    "\n",
    "\n",
    "#cust_df.drop([\"Churn\"],axis=1,inplace=True)\n",
    "#customer_id = cust_df.CustomerID\n",
    "#cust_df.drop([\"CustomerID\",\"ServiceArea\"],axis=1,inplace=True)\n"
   ]
  },
  {
   "cell_type": "markdown",
   "metadata": {},
   "source": [
    "## 4. Classification model to predict customer churn - month in advance"
   ]
  },
  {
   "cell_type": "markdown",
   "metadata": {},
   "source": [
    "### Initial data processing"
   ]
  },
  {
   "cell_type": "code",
   "execution_count": 26,
   "metadata": {},
   "outputs": [
    {
     "data": {
      "text/plain": [
       "StandardScaler()"
      ]
     },
     "execution_count": 26,
     "metadata": {},
     "output_type": "execute_result"
    }
   ],
   "source": [
    "#Train - test split to train and test model accuracy\n",
    "from sklearn.model_selection import train_test_split\n",
    "\n",
    "#Define columns to be included in X and y\n",
    "# X = Independent variables\n",
    "# Y = Dependent variable (churn flag)\n",
    "\n",
    "#Feature scaling for all continuous variable\n",
    "from sklearn.preprocessing import StandardScaler\n",
    "sc = StandardScaler()\n",
    "\n",
    "## scaling all continous variable from the dataframe\n",
    "cust_df[continous_col] = sc.fit_transform(cust_df[continous_col])\n",
    "\n",
    "sc.fit(cust_df[continous_col])\n",
    "cust_df[continous_col] = sc.transform(cust_df[continous_col])\n",
    "\n",
    "\n",
    "#Create dummy variables for all categorical variables\n",
    "cust_df = pd.get_dummies(cust_df, columns=important_categorical_col, drop_first=True)"
   ]
  },
  {
   "cell_type": "code",
   "execution_count": 27,
   "metadata": {},
   "outputs": [],
   "source": [
    "# sc = StandardScaler()\n",
    "# new_df = sc.fit_transform(new_df)\n",
    "# sc.fit(cust_df[continous_col])\n",
    "# new_df = sc.transform(new_df)"
   ]
  },
  {
   "cell_type": "code",
   "execution_count": null,
   "metadata": {},
   "outputs": [],
   "source": []
  },
  {
   "cell_type": "code",
   "execution_count": 28,
   "metadata": {},
   "outputs": [
    {
     "data": {
      "text/plain": [
       "0    34730\n",
       "1    34730\n",
       "Name: Churn, dtype: int64"
      ]
     },
     "execution_count": 28,
     "metadata": {},
     "output_type": "execute_result"
    }
   ],
   "source": [
    "y.value_counts()"
   ]
  },
  {
   "cell_type": "code",
   "execution_count": 29,
   "metadata": {},
   "outputs": [
    {
     "data": {
      "text/plain": [
       "0    50.0\n",
       "1    50.0\n",
       "Name: Churn, dtype: float64"
      ]
     },
     "execution_count": 29,
     "metadata": {},
     "output_type": "execute_result"
    }
   ],
   "source": [
    "## checking the proportion of churn and non churned customers\n",
    "y.value_counts()/len(y)*100"
   ]
  },
  {
   "cell_type": "code",
   "execution_count": 30,
   "metadata": {},
   "outputs": [
    {
     "data": {
      "text/plain": [
       "21"
      ]
     },
     "execution_count": 30,
     "metadata": {},
     "output_type": "execute_result"
    }
   ],
   "source": [
    "len(important_categorical_col)"
   ]
  },
  {
   "cell_type": "code",
   "execution_count": 31,
   "metadata": {},
   "outputs": [],
   "source": [
    "## splitting the customer churn data into train and test sets\n",
    "cust_df[\"CustomerID\"] = customerid\n",
    "X = cust_df\n",
    "\n",
    "X_train, X_test, y_train, y_test = train_test_split(X, y, test_size=0.3, random_state=0)"
   ]
  },
  {
   "cell_type": "code",
   "execution_count": 32,
   "metadata": {},
   "outputs": [
    {
     "data": {
      "text/plain": [
       "1    24462\n",
       "0    24160\n",
       "Name: Churn, dtype: int64"
      ]
     },
     "execution_count": 32,
     "metadata": {},
     "output_type": "execute_result"
    }
   ],
   "source": [
    "y_train.value_counts()"
   ]
  },
  {
   "cell_type": "code",
   "execution_count": 33,
   "metadata": {},
   "outputs": [
    {
     "data": {
      "text/plain": [
       "(69460, 134)"
      ]
     },
     "execution_count": 33,
     "metadata": {},
     "output_type": "execute_result"
    }
   ],
   "source": [
    "X.shape"
   ]
  },
  {
   "cell_type": "code",
   "execution_count": 34,
   "metadata": {},
   "outputs": [],
   "source": [
    "train_custid = X_train.CustomerID\n",
    "test_custid = X_test.CustomerID\n",
    "test_monthlyrevenue = X_test.MonthlyRevenue\n",
    "X_train.drop([\"CustomerID\"],inplace=True,axis=1)\n",
    "X_test.drop([\"CustomerID\"],inplace=True,axis=1)"
   ]
  },
  {
   "cell_type": "markdown",
   "metadata": {},
   "source": [
    "### 4.1 Simple logistic regression model to predict churn and evaluate model accuracy on test data set\n"
   ]
  },
  {
   "cell_type": "code",
   "execution_count": 35,
   "metadata": {},
   "outputs": [],
   "source": [
    "#-------------------------------- Model training -------------------------------#\n",
    "\n",
    "#type your code to build logistic regression model on training data set\n",
    "from sklearn.linear_model import LogisticRegression\n",
    "from sklearn.metrics import accuracy_score, classification_report, confusion_matrix,roc_auc_score,f1_score,plot_confusion_matrix,average_precision_score\n",
    "\n",
    "logit = LogisticRegression(random_state=0)\n",
    "logistic_classifier  = logit.fit(X_train, y_train)\n",
    "logistic_predt_train_output = logistic_classifier.predict_proba(X_train)[:, 1]\n",
    "\n",
    "#-------------------------------- Model testing ---------------------------------#\n",
    "\n",
    "#type your code here to predict for X_test data set using the fitted model\n",
    "logistic_predt_test_output = logistic_classifier.predict_proba(X_test)[:, 1]\n"
   ]
  },
  {
   "cell_type": "code",
   "execution_count": 36,
   "metadata": {},
   "outputs": [],
   "source": [
    "\n",
    "def efficient_cutoff(actual_value,predicted):\n",
    "    probability_cutoff = []\n",
    "    f1_score_value = []\n",
    "    \n",
    "    for i in range(0,101):\n",
    "        predicted_x = deepcopy(predicted)\n",
    "        predicted_x[predicted_x >= i / 100] = 1\n",
    "        predicted_x[predicted_x < i / 100] = 0\n",
    "        probability_cutoff.append(i/100)\n",
    "        f1_score_value.append(f1_score(actual_value,predicted_x))\n",
    "    \n",
    "    return (probability_cutoff,f1_score_value)\n",
    "            \n",
    "        \n",
    "    \n",
    "    "
   ]
  },
  {
   "cell_type": "code",
   "execution_count": 37,
   "metadata": {},
   "outputs": [
    {
     "data": {
      "text/plain": [
       "Text(0.5, 0, 'probability cuttoff value train')"
      ]
     },
     "execution_count": 37,
     "metadata": {},
     "output_type": "execute_result"
    },
    {
     "data": {
      "text/plain": [
       "<matplotlib.lines.Line2D at 0x1e350444070>"
      ]
     },
     "execution_count": 37,
     "metadata": {},
     "output_type": "execute_result"
    },
    {
     "data": {
      "text/plain": [
       "Text(0, 0.5, 'f1_score train ')"
      ]
     },
     "execution_count": 37,
     "metadata": {},
     "output_type": "execute_result"
    },
    {
     "data": {
      "text/plain": [
       "[<matplotlib.lines.Line2D at 0x1e33e1d9ee0>]"
      ]
     },
     "execution_count": 37,
     "metadata": {},
     "output_type": "execute_result"
    },
    {
     "data": {
      "image/png": "[encoded data removed]",
      "text/plain": [
       "<Figure size 432x288 with 1 Axes>"
      ]
     },
     "metadata": {
      "needs_background": "light"
     },
     "output_type": "display_data"
    },
    {
     "data": {
      "text/plain": [
       "<matplotlib.lines.Line2D at 0x1e33e237040>"
      ]
     },
     "execution_count": 37,
     "metadata": {},
     "output_type": "execute_result"
    },
    {
     "data": {
      "text/plain": [
       "Text(0.5, 0, 'probability cuttoff value test')"
      ]
     },
     "execution_count": 37,
     "metadata": {},
     "output_type": "execute_result"
    },
    {
     "data": {
      "text/plain": [
       "Text(0, 0.5, 'f1_score test')"
      ]
     },
     "execution_count": 37,
     "metadata": {},
     "output_type": "execute_result"
    },
    {
     "data": {
      "text/plain": [
       "[<matplotlib.lines.Line2D at 0x1e33e237700>]"
      ]
     },
     "execution_count": 37,
     "metadata": {},
     "output_type": "execute_result"
    },
    {
     "data": {
      "image/png": "[encoded data removed]",
      "text/plain": [
       "<Figure size 432x288 with 1 Axes>"
      ]
     },
     "metadata": {
      "needs_background": "light"
     },
     "output_type": "display_data"
    }
   ],
   "source": [
    "probability_cutoff,f1_score_value = efficient_cutoff(y_train,logistic_predt_train_output)\n",
    "\n",
    "plt.xlabel(\"probability cuttoff value train\")\n",
    "plt.axvline(x = 0.4, color = 'b', label = 'axvline - full height')\n",
    "plt.ylabel(\"f1_score train \")\n",
    "plt.plot(probability_cutoff,f1_score_value)\n",
    "plt.show()\n",
    "\n",
    "probability_cutoff,f1_score_value = efficient_cutoff(y_test,logistic_predt_test_output)\n",
    "plt.axvline(x = 0.4, color = 'b', label = 'axvline - full height')\n",
    "plt.xlabel(\"probability cuttoff value test\")\n",
    "plt.ylabel(\"f1_score test\")\n",
    "plt.plot(probability_cutoff,f1_score_value)\n",
    "plt.show()\n"
   ]
  },
  {
   "cell_type": "code",
   "execution_count": 38,
   "metadata": {},
   "outputs": [
    {
     "name": "stdout",
     "output_type": "stream",
     "text": [
      "              precision    recall  f1-score   support\n",
      "\n",
      "           0       0.67      0.23      0.34     10570\n",
      "           1       0.53      0.89      0.66     10268\n",
      "\n",
      "    accuracy                           0.55     20838\n",
      "   macro avg       0.60      0.56      0.50     20838\n",
      "weighted avg       0.60      0.55      0.50     20838\n",
      "\n",
      "gini :0.25479855114713756\n",
      "the ROC_AUC of logistic classifier for test data: 0.6273992755735688\n"
     ]
    },
    {
     "data": {
      "text/plain": [
       "array([[2405, 8165],\n",
       "       [1159, 9109]], dtype=int64)"
      ]
     },
     "execution_count": 38,
     "metadata": {},
     "output_type": "execute_result"
    },
    {
     "data": {
      "text/plain": [
       "(2405, 8165, 1159, 9109)"
      ]
     },
     "execution_count": 38,
     "metadata": {},
     "output_type": "execute_result"
    }
   ],
   "source": [
    "\n",
    "#Use a probability threshold to classify customers as churners and non churners (Default = 0.5)\n",
    "\n",
    "logistic_predt_test_output[logistic_predt_test_output>=0.4] = 1\n",
    "logistic_predt_test_output[logistic_predt_test_output <0.4] = 0\n",
    "\n",
    "#Evaluate model accuracy using fitted y value and actual y_test\n",
    "#Evaluatio metrics to be used - GINI, Precision, Recall, confusion matrix\n",
    "print(classification_report(y_test,logistic_predt_test_output))\n",
    "auc = roc_auc_score(y_test, logistic_classifier.predict_proba(X_test)[:, 1])\n",
    "print(\"gini :{}\".format(2*auc - 1))\n",
    "print(\"the ROC_AUC of logistic classifier for test data: {}\".format(auc))\n",
    "confusion_matrix(y_test, logistic_predt_test_output)\n",
    "tn, fp, fn, tp = confusion_matrix(y_test, logistic_predt_test_output).ravel()\n",
    "tn, fp, fn, tp"
   ]
  },
  {
   "cell_type": "markdown",
   "metadata": {},
   "source": [
    "### 4.2 Build Random Forest classifier to compare model accuracy over the logistic regression model\n"
   ]
  },
  {
   "cell_type": "code",
   "execution_count": 39,
   "metadata": {},
   "outputs": [
    {
     "data": {
      "text/plain": [
       "RandomForestClassifier(criterion='entropy', max_depth=15, min_samples_split=50,\n",
       "                       n_estimators=350, n_jobs=-1, random_state=40)"
      ]
     },
     "execution_count": 39,
     "metadata": {},
     "output_type": "execute_result"
    }
   ],
   "source": [
    "#-------------------------------- Model training -------------------------------#\n",
    "\n",
    "#type your code to build random forest classifier model on training data set\n",
    "\n",
    "\n",
    "from sklearn.ensemble import RandomForestClassifier\n",
    "clf = RandomForestClassifier(max_depth=15,min_samples_split=50,random_state=40,criterion=\"entropy\",n_estimators=350,n_jobs=-1)\n",
    "clf.fit(X_train, y_train)\n",
    "#-------------------------------- Model testing ---------------------------------#\n",
    "\n",
    "#type your code here to predict for X_test data and train set using the fitted RF model\n",
    "rf_train_output = clf.predict_proba(X_train)[:, 1]\n",
    "rf_test_output = clf.predict_proba(X_test)[:, 1]\n"
   ]
  },
  {
   "cell_type": "code",
   "execution_count": 40,
   "metadata": {},
   "outputs": [
    {
     "data": {
      "text/plain": [
       "<matplotlib.lines.Line2D at 0x1e340e5de20>"
      ]
     },
     "execution_count": 40,
     "metadata": {},
     "output_type": "execute_result"
    },
    {
     "data": {
      "text/plain": [
       "Text(0.5, 0, 'probability cuttoff value train')"
      ]
     },
     "execution_count": 40,
     "metadata": {},
     "output_type": "execute_result"
    },
    {
     "data": {
      "text/plain": [
       "Text(0, 0.5, 'f1_score train ')"
      ]
     },
     "execution_count": 40,
     "metadata": {},
     "output_type": "execute_result"
    },
    {
     "data": {
      "text/plain": [
       "[<matplotlib.lines.Line2D at 0x1e341cc85e0>]"
      ]
     },
     "execution_count": 40,
     "metadata": {},
     "output_type": "execute_result"
    },
    {
     "data": {
      "image/png": "[encoded data removed]",
      "text/plain": [
       "<Figure size 432x288 with 1 Axes>"
      ]
     },
     "metadata": {
      "needs_background": "light"
     },
     "output_type": "display_data"
    },
    {
     "data": {
      "text/plain": [
       "<matplotlib.lines.Line2D at 0x1e343dc9610>"
      ]
     },
     "execution_count": 40,
     "metadata": {},
     "output_type": "execute_result"
    },
    {
     "data": {
      "text/plain": [
       "Text(0.5, 0, 'probability cuttoff value test')"
      ]
     },
     "execution_count": 40,
     "metadata": {},
     "output_type": "execute_result"
    },
    {
     "data": {
      "text/plain": [
       "Text(0, 0.5, 'f1_score test')"
      ]
     },
     "execution_count": 40,
     "metadata": {},
     "output_type": "execute_result"
    },
    {
     "data": {
      "text/plain": [
       "[<matplotlib.lines.Line2D at 0x1e343dc9d00>]"
      ]
     },
     "execution_count": 40,
     "metadata": {},
     "output_type": "execute_result"
    },
    {
     "data": {
      "image/png": "[encoded data removed]",
      "text/plain": [
       "<Figure size 432x288 with 1 Axes>"
      ]
     },
     "metadata": {
      "needs_background": "light"
     },
     "output_type": "display_data"
    }
   ],
   "source": [
    "## plotting the f1_score vs the probility cutoff value\n",
    "probability_cutoff,f1_score_value = efficient_cutoff(y_train,rf_train_output)\n",
    "\n",
    "#plt.xticks(np.arange(1,100,10)/100)\n",
    "plt.axvline(x = 0.52, color = 'b', label = 'axvline - full height')\n",
    "plt.xlabel(\"probability cuttoff value train\")\n",
    "plt.ylabel(\"f1_score train \")\n",
    "plt.plot(probability_cutoff,f1_score_value)\n",
    "plt.show()\n",
    "\n",
    "probability_cutoff,f1_score_value = efficient_cutoff(y_test,rf_test_output)\n",
    "plt.axvline(x = 0.53, color = 'b', label = 'axvline - full height')\n",
    "plt.xlabel(\"probability cuttoff value test\")\n",
    "plt.ylabel(\"f1_score test\")\n",
    "plt.plot(probability_cutoff,f1_score_value)\n",
    "plt.show()\n"
   ]
  },
  {
   "cell_type": "code",
   "execution_count": 41,
   "metadata": {},
   "outputs": [
    {
     "data": {
      "text/plain": [
       "(array([ 188.,  617.,  981., 2146., 3183., 4944., 5151., 2731.,  810.,\n",
       "          87.]),\n",
       " array([0.1251385 , 0.19461766, 0.26409682, 0.33357598, 0.40305514,\n",
       "        0.47253429, 0.54201345, 0.61149261, 0.68097177, 0.75045093,\n",
       "        0.81993009]),\n",
       " <BarContainer object of 10 artists>)"
      ]
     },
     "execution_count": 41,
     "metadata": {},
     "output_type": "execute_result"
    },
    {
     "data": {
      "image/png": "[encoded data removed]",
      "text/plain": [
       "<Figure size 432x288 with 1 Axes>"
      ]
     },
     "metadata": {
      "needs_background": "light"
     },
     "output_type": "display_data"
    }
   ],
   "source": [
    "## plotting the histogram of the probability that the customer will churn\n",
    "plt.hist(rf_test_output)"
   ]
  },
  {
   "cell_type": "code",
   "execution_count": 42,
   "metadata": {},
   "outputs": [
    {
     "name": "stdout",
     "output_type": "stream",
     "text": [
      "              precision    recall  f1-score   support\n",
      "\n",
      "           0       0.72      0.76      0.74     10570\n",
      "           1       0.74      0.70      0.72     10268\n",
      "\n",
      "    accuracy                           0.73     20838\n",
      "   macro avg       0.73      0.73      0.73     20838\n",
      "weighted avg       0.73      0.73      0.73     20838\n",
      "\n",
      "gini :0.6208675610939958\n",
      "the ROC_AUC for test rf classifier: 0.8104337805469979\n"
     ]
    },
    {
     "data": {
      "text/plain": [
       "array([[8000, 2570],\n",
       "       [3071, 7197]], dtype=int64)"
      ]
     },
     "execution_count": 42,
     "metadata": {},
     "output_type": "execute_result"
    },
    {
     "data": {
      "text/plain": [
       "(8000, 2570, 3071, 7197)"
      ]
     },
     "execution_count": 42,
     "metadata": {},
     "output_type": "execute_result"
    }
   ],
   "source": [
    "\n",
    "#Use a probability threshold to classify customers as churners and non churners (Default = 0.5)\n",
    "rf_test_output[rf_test_output<0.53] = 0\n",
    "rf_test_output[rf_test_output>=0.53]  = 1\n",
    "\n",
    "print(classification_report(y_test,rf_test_output))\n",
    "test_auc = roc_auc_score(y_test,clf.predict_proba(X_test)[:, 1])\n",
    "print(\"gini :{}\".format(2*test_auc - 1))\n",
    "print(\"the ROC_AUC for test rf classifier: {}\".format(test_auc))\n",
    "#Evaluate model accuracy using fitted y value and actual y_test\n",
    "#Evaluatio metrics to be used - GINI, Precision, Recall, confusion matrix\n",
    "\n",
    "confusion_matrix(y_test, rf_test_output)\n",
    "tn, fp, fn, tp = confusion_matrix(y_test, rf_test_output).ravel()\n",
    "tn, fp, fn, tp"
   ]
  },
  {
   "cell_type": "markdown",
   "metadata": {},
   "source": [
    "<mark>__Result:__\n",
    "    \n",
    "    \n",
    "    The random forest model has better predictive capability and the precision ,recall,confusion matrix and auc value suggest \n",
    "    the same. We have selected the cutoff value in order to maximize the f1 score.\n",
    "    \n",
    "    "
   ]
  },
  {
   "cell_type": "code",
   "execution_count": 43,
   "metadata": {},
   "outputs": [
    {
     "data": {
      "text/plain": [
       "<Figure size 360x720 with 0 Axes>"
      ]
     },
     "execution_count": 43,
     "metadata": {},
     "output_type": "execute_result"
    },
    {
     "data": {
      "text/plain": [
       "Text(0.5, 1.0, 'feature Importance plot')"
      ]
     },
     "execution_count": 43,
     "metadata": {},
     "output_type": "execute_result"
    },
    {
     "data": {
      "text/plain": [
       "<AxesSubplot:title={'center':'feature Importance plot'}>"
      ]
     },
     "execution_count": 43,
     "metadata": {},
     "output_type": "execute_result"
    },
    {
     "data": {
      "image/png": "[encoded data removed]",
      "text/plain": [
       "<Figure size 360x720 with 1 Axes>"
      ]
     },
     "metadata": {
      "needs_background": "light"
     },
     "output_type": "display_data"
    }
   ],
   "source": [
    "# Type your code here to plot the top 20 important predictor features impacting churn using the Random Forest model created\n",
    "\n",
    "feat_importances = pd.Series(clf.feature_importances_, index=X_train.columns)\n",
    "plt.figure(figsize=(5,10))\n",
    "plt.title(\"feature Importance plot\")\n",
    "feat_importances.nlargest(20).sort_values(ascending=True).plot(kind='barh',)\n",
    "# .nlargest(20).sort(ascending=False)"
   ]
  },
  {
   "cell_type": "markdown",
   "metadata": {},
   "source": [
    "<mark>__Result:__\n",
    "    \n",
    "    \n",
    "    The above lists the top 20 most important features. CurrentEquipmentDays or days that the customer has had their device is the most responsible for predicting whether or not a customer will churn.\n",
    "    "
   ]
  }
 ],
 "metadata": {
  "kernelspec": {
   "display_name": "Python 3",
   "language": "python",
   "name": "python3"
  },
  "language_info": {
   "codemirror_mode": {
    "name": "ipython",
    "version": 3
   },
   "file_extension": ".py",
   "mimetype": "text/x-python",
   "name": "python",
   "nbconvert_exporter": "python",
   "pygments_lexer": "ipython3",
   "version": "3.8.8"
  }
 },
 "nbformat": 4,
 "nbformat_minor": 4
}
