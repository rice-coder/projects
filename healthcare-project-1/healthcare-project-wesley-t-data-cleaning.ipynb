{
 "cells": [
  {
   "cell_type": "code",
   "execution_count": 1,
   "id": "3042eab8",
   "metadata": {},
   "outputs": [],
   "source": [
    "import pandas as pd\n",
    "import numpy as np\n",
    "import seaborn as sns\n",
    "import datetime\n",
    "import matplotlib.pyplot as plt\n",
    "\n",
    "from numpy.random import seed\n",
    "from numpy.random import randn\n",
    "from numpy import percentile"
   ]
  },
  {
   "cell_type": "markdown",
   "id": "aa050f3d",
   "metadata": {},
   "source": [
    "Healthcare Dataset Challenge: The task is to analyze the clinical and financial data of patients hospitalized for a certain condition. It is attached with this email. Some variable names and patient_id's have been anonymized in this dataset. You are required to join the data given in different tables, and find insights about the <b>drivers of cost of care</b>."
   ]
  },
  {
   "cell_type": "markdown",
   "id": "aa1f892b",
   "metadata": {},
   "source": [
    "## Importing Datasets"
   ]
  },
  {
   "cell_type": "code",
   "execution_count": 2,
   "id": "7c06f44e",
   "metadata": {},
   "outputs": [],
   "source": [
    "ba_df = pd.read_csv('bill_amount.csv')\n",
    "bid_df = pd.read_csv('bill_id.csv')\n",
    "cd_df = pd.read_csv('clinical_data.csv')\n",
    "demo_df = pd.read_csv('demographics.csv')"
   ]
  },
  {
   "cell_type": "markdown",
   "id": "7c3c6ec5",
   "metadata": {},
   "source": [
    "# 1. Data Cleaning"
   ]
  },
  {
   "cell_type": "markdown",
   "id": "c14ca931",
   "metadata": {},
   "source": [
    "## 1a. Overall dataset assesssment"
   ]
  },
  {
   "cell_type": "code",
   "execution_count": 3,
   "id": "17aacac6",
   "metadata": {
    "scrolled": true
   },
   "outputs": [
    {
     "name": "stdout",
     "output_type": "stream",
     "text": [
      "<class 'pandas.core.frame.DataFrame'>\n",
      "RangeIndex: 13600 entries, 0 to 13599\n",
      "Data columns (total 2 columns):\n",
      " #   Column   Non-Null Count  Dtype  \n",
      "---  ------   --------------  -----  \n",
      " 0   bill_id  13600 non-null  int64  \n",
      " 1   amount   13600 non-null  float64\n",
      "dtypes: float64(1), int64(1)\n",
      "memory usage: 212.6 KB\n",
      "\n",
      "\n",
      "<class 'pandas.core.frame.DataFrame'>\n",
      "RangeIndex: 13600 entries, 0 to 13599\n",
      "Data columns (total 3 columns):\n",
      " #   Column             Non-Null Count  Dtype \n",
      "---  ------             --------------  ----- \n",
      " 0   bill_id            13600 non-null  int64 \n",
      " 1   patient_id         13600 non-null  object\n",
      " 2   date_of_admission  13600 non-null  object\n",
      "dtypes: int64(1), object(2)\n",
      "memory usage: 318.9+ KB\n",
      "\n",
      "\n",
      "<class 'pandas.core.frame.DataFrame'>\n",
      "RangeIndex: 3400 entries, 0 to 3399\n",
      "Data columns (total 26 columns):\n",
      " #   Column              Non-Null Count  Dtype  \n",
      "---  ------              --------------  -----  \n",
      " 0   id                  3400 non-null   object \n",
      " 1   date_of_admission   3400 non-null   object \n",
      " 2   date_of_discharge   3400 non-null   object \n",
      " 3   medical_history_1   3400 non-null   int64  \n",
      " 4   medical_history_2   3167 non-null   float64\n",
      " 5   medical_history_3   3400 non-null   object \n",
      " 6   medical_history_4   3400 non-null   int64  \n",
      " 7   medical_history_5   3096 non-null   float64\n",
      " 8   medical_history_6   3400 non-null   int64  \n",
      " 9   medical_history_7   3400 non-null   int64  \n",
      " 10  preop_medication_1  3400 non-null   int64  \n",
      " 11  preop_medication_2  3400 non-null   int64  \n",
      " 12  preop_medication_3  3400 non-null   int64  \n",
      " 13  preop_medication_4  3400 non-null   int64  \n",
      " 14  preop_medication_5  3400 non-null   int64  \n",
      " 15  preop_medication_6  3400 non-null   int64  \n",
      " 16  symptom_1           3400 non-null   int64  \n",
      " 17  symptom_2           3400 non-null   int64  \n",
      " 18  symptom_3           3400 non-null   int64  \n",
      " 19  symptom_4           3400 non-null   int64  \n",
      " 20  symptom_5           3400 non-null   int64  \n",
      " 21  lab_result_1        3400 non-null   float64\n",
      " 22  lab_result_2        3400 non-null   float64\n",
      " 23  lab_result_3        3400 non-null   float64\n",
      " 24  weight              3400 non-null   float64\n",
      " 25  height              3400 non-null   float64\n",
      "dtypes: float64(7), int64(15), object(4)\n",
      "memory usage: 690.8+ KB\n",
      "\n",
      "\n",
      "<class 'pandas.core.frame.DataFrame'>\n",
      "RangeIndex: 3000 entries, 0 to 2999\n",
      "Data columns (total 5 columns):\n",
      " #   Column           Non-Null Count  Dtype \n",
      "---  ------           --------------  ----- \n",
      " 0   patient_id       3000 non-null   object\n",
      " 1   gender           3000 non-null   object\n",
      " 2   race             3000 non-null   object\n",
      " 3   resident_status  3000 non-null   object\n",
      " 4   date_of_birth    3000 non-null   object\n",
      "dtypes: object(5)\n",
      "memory usage: 117.3+ KB\n"
     ]
    }
   ],
   "source": [
    "#checking dtypes and non-null rows\n",
    "ba_df.info()\n",
    "print('\\n')\n",
    "bid_df.info()\n",
    "print('\\n')\n",
    "cd_df.info()\n",
    "print('\\n')\n",
    "demo_df.info()"
   ]
  },
  {
   "cell_type": "markdown",
   "id": "0220a466",
   "metadata": {},
   "source": [
    "## 1b. Bill Amounts"
   ]
  },
  {
   "cell_type": "code",
   "execution_count": 4,
   "id": "2f18adbc",
   "metadata": {},
   "outputs": [
    {
     "data": {
      "text/html": [
       "<div>\n",
       "<style scoped>\n",
       "    .dataframe tbody tr th:only-of-type {\n",
       "        vertical-align: middle;\n",
       "    }\n",
       "\n",
       "    .dataframe tbody tr th {\n",
       "        vertical-align: top;\n",
       "    }\n",
       "\n",
       "    .dataframe thead th {\n",
       "        text-align: right;\n",
       "    }\n",
       "</style>\n",
       "<table border=\"1\" class=\"dataframe\">\n",
       "  <thead>\n",
       "    <tr style=\"text-align: right;\">\n",
       "      <th></th>\n",
       "      <th>index</th>\n",
       "      <th>0</th>\n",
       "    </tr>\n",
       "  </thead>\n",
       "  <tbody>\n",
       "  </tbody>\n",
       "</table>\n",
       "</div>"
      ],
      "text/plain": [
       "Empty DataFrame\n",
       "Columns: [index, 0]\n",
       "Index: []"
      ]
     },
     "execution_count": 4,
     "metadata": {},
     "output_type": "execute_result"
    }
   ],
   "source": [
    "#check for null values\n",
    "ba_df_null = ba_df.isnull().sum().reset_index()\n",
    "ba_df_null[ba_df_null[0]>0]"
   ]
  },
  {
   "cell_type": "code",
   "execution_count": 5,
   "id": "69029084",
   "metadata": {},
   "outputs": [
    {
     "name": "stdout",
     "output_type": "stream",
     "text": [
      "<class 'pandas.core.frame.DataFrame'>\n",
      "RangeIndex: 13600 entries, 0 to 13599\n",
      "Data columns (total 2 columns):\n",
      " #   Column   Non-Null Count  Dtype  \n",
      "---  ------   --------------  -----  \n",
      " 0   bill_id  13600 non-null  int64  \n",
      " 1   amount   13600 non-null  float64\n",
      "dtypes: float64(1), int64(1)\n",
      "memory usage: 212.6 KB\n"
     ]
    }
   ],
   "source": [
    "ba_df.info()"
   ]
  },
  {
   "cell_type": "code",
   "execution_count": 6,
   "id": "b856c351",
   "metadata": {},
   "outputs": [
    {
     "data": {
      "text/html": [
       "<div>\n",
       "<style scoped>\n",
       "    .dataframe tbody tr th:only-of-type {\n",
       "        vertical-align: middle;\n",
       "    }\n",
       "\n",
       "    .dataframe tbody tr th {\n",
       "        vertical-align: top;\n",
       "    }\n",
       "\n",
       "    .dataframe thead th {\n",
       "        text-align: right;\n",
       "    }\n",
       "</style>\n",
       "<table border=\"1\" class=\"dataframe\">\n",
       "  <thead>\n",
       "    <tr style=\"text-align: right;\">\n",
       "      <th></th>\n",
       "      <th>bill_id</th>\n",
       "      <th>amount</th>\n",
       "    </tr>\n",
       "  </thead>\n",
       "  <tbody>\n",
       "  </tbody>\n",
       "</table>\n",
       "</div>"
      ],
      "text/plain": [
       "Empty DataFrame\n",
       "Columns: [bill_id, amount]\n",
       "Index: []"
      ]
     },
     "execution_count": 6,
     "metadata": {},
     "output_type": "execute_result"
    }
   ],
   "source": [
    "ba_df[ba_df['bill_id'] == 0]"
   ]
  },
  {
   "cell_type": "code",
   "execution_count": 7,
   "id": "f0384ffa",
   "metadata": {},
   "outputs": [
    {
     "data": {
      "text/html": [
       "<div>\n",
       "<style scoped>\n",
       "    .dataframe tbody tr th:only-of-type {\n",
       "        vertical-align: middle;\n",
       "    }\n",
       "\n",
       "    .dataframe tbody tr th {\n",
       "        vertical-align: top;\n",
       "    }\n",
       "\n",
       "    .dataframe thead th {\n",
       "        text-align: right;\n",
       "    }\n",
       "</style>\n",
       "<table border=\"1\" class=\"dataframe\">\n",
       "  <thead>\n",
       "    <tr style=\"text-align: right;\">\n",
       "      <th></th>\n",
       "      <th>bill_id</th>\n",
       "      <th>amount</th>\n",
       "    </tr>\n",
       "  </thead>\n",
       "  <tbody>\n",
       "  </tbody>\n",
       "</table>\n",
       "</div>"
      ],
      "text/plain": [
       "Empty DataFrame\n",
       "Columns: [bill_id, amount]\n",
       "Index: []"
      ]
     },
     "execution_count": 7,
     "metadata": {},
     "output_type": "execute_result"
    }
   ],
   "source": [
    "ba_df[np.isclose(ba_df['amount'], 0.0)]"
   ]
  },
  {
   "cell_type": "code",
   "execution_count": 8,
   "id": "b2f738d0",
   "metadata": {},
   "outputs": [
    {
     "data": {
      "text/html": [
       "<div>\n",
       "<style scoped>\n",
       "    .dataframe tbody tr th:only-of-type {\n",
       "        vertical-align: middle;\n",
       "    }\n",
       "\n",
       "    .dataframe tbody tr th {\n",
       "        vertical-align: top;\n",
       "    }\n",
       "\n",
       "    .dataframe thead th {\n",
       "        text-align: right;\n",
       "    }\n",
       "</style>\n",
       "<table border=\"1\" class=\"dataframe\">\n",
       "  <thead>\n",
       "    <tr style=\"text-align: right;\">\n",
       "      <th></th>\n",
       "      <th>bill_id</th>\n",
       "      <th>amount</th>\n",
       "    </tr>\n",
       "  </thead>\n",
       "  <tbody>\n",
       "  </tbody>\n",
       "</table>\n",
       "</div>"
      ],
      "text/plain": [
       "Empty DataFrame\n",
       "Columns: [bill_id, amount]\n",
       "Index: []"
      ]
     },
     "execution_count": 8,
     "metadata": {},
     "output_type": "execute_result"
    }
   ],
   "source": [
    "#checking for negative bill amounts\n",
    "ba_df[ba_df['amount'] < 0]"
   ]
  },
  {
   "cell_type": "markdown",
   "id": "b4ab310f",
   "metadata": {},
   "source": [
    "## 1c. Bill ID"
   ]
  },
  {
   "cell_type": "code",
   "execution_count": 17,
   "id": "38d04c8f",
   "metadata": {
    "scrolled": true
   },
   "outputs": [
    {
     "data": {
      "text/html": [
       "<div>\n",
       "<style scoped>\n",
       "    .dataframe tbody tr th:only-of-type {\n",
       "        vertical-align: middle;\n",
       "    }\n",
       "\n",
       "    .dataframe tbody tr th {\n",
       "        vertical-align: top;\n",
       "    }\n",
       "\n",
       "    .dataframe thead th {\n",
       "        text-align: right;\n",
       "    }\n",
       "</style>\n",
       "<table border=\"1\" class=\"dataframe\">\n",
       "  <thead>\n",
       "    <tr style=\"text-align: right;\">\n",
       "      <th></th>\n",
       "      <th>index</th>\n",
       "      <th>0</th>\n",
       "    </tr>\n",
       "  </thead>\n",
       "  <tbody>\n",
       "  </tbody>\n",
       "</table>\n",
       "</div>"
      ],
      "text/plain": [
       "Empty DataFrame\n",
       "Columns: [index, 0]\n",
       "Index: []"
      ]
     },
     "execution_count": 17,
     "metadata": {},
     "output_type": "execute_result"
    }
   ],
   "source": [
    "#check for null values\n",
    "bid_df_null = bid_df.isnull().sum().reset_index()\n",
    "bid_df_null[bid_df_null[0]>0]"
   ]
  },
  {
   "cell_type": "code",
   "execution_count": 18,
   "id": "6f91deb5",
   "metadata": {},
   "outputs": [
    {
     "name": "stdout",
     "output_type": "stream",
     "text": [
      "<class 'pandas.core.frame.DataFrame'>\n",
      "RangeIndex: 13600 entries, 0 to 13599\n",
      "Data columns (total 3 columns):\n",
      " #   Column             Non-Null Count  Dtype \n",
      "---  ------             --------------  ----- \n",
      " 0   bill_id            13600 non-null  int64 \n",
      " 1   patient_id         13600 non-null  object\n",
      " 2   date_of_admission  13600 non-null  object\n",
      "dtypes: int64(1), object(2)\n",
      "memory usage: 318.9+ KB\n"
     ]
    }
   ],
   "source": [
    "bid_df.info()"
   ]
  },
  {
   "cell_type": "code",
   "execution_count": 19,
   "id": "ccb067b8",
   "metadata": {},
   "outputs": [
    {
     "data": {
      "text/html": [
       "<div>\n",
       "<style scoped>\n",
       "    .dataframe tbody tr th:only-of-type {\n",
       "        vertical-align: middle;\n",
       "    }\n",
       "\n",
       "    .dataframe tbody tr th {\n",
       "        vertical-align: top;\n",
       "    }\n",
       "\n",
       "    .dataframe thead th {\n",
       "        text-align: right;\n",
       "    }\n",
       "</style>\n",
       "<table border=\"1\" class=\"dataframe\">\n",
       "  <thead>\n",
       "    <tr style=\"text-align: right;\">\n",
       "      <th></th>\n",
       "      <th>bill_id</th>\n",
       "      <th>patient_id</th>\n",
       "      <th>date_of_admission</th>\n",
       "    </tr>\n",
       "  </thead>\n",
       "  <tbody>\n",
       "  </tbody>\n",
       "</table>\n",
       "</div>"
      ],
      "text/plain": [
       "Empty DataFrame\n",
       "Columns: [bill_id, patient_id, date_of_admission]\n",
       "Index: []"
      ]
     },
     "execution_count": 19,
     "metadata": {},
     "output_type": "execute_result"
    }
   ],
   "source": [
    "bid_df[bid_df['bill_id'] == 0]"
   ]
  },
  {
   "cell_type": "code",
   "execution_count": 20,
   "id": "80c30e9a",
   "metadata": {
    "scrolled": true
   },
   "outputs": [
    {
     "data": {
      "text/html": [
       "<div>\n",
       "<style scoped>\n",
       "    .dataframe tbody tr th:only-of-type {\n",
       "        vertical-align: middle;\n",
       "    }\n",
       "\n",
       "    .dataframe tbody tr th {\n",
       "        vertical-align: top;\n",
       "    }\n",
       "\n",
       "    .dataframe thead th {\n",
       "        text-align: right;\n",
       "    }\n",
       "</style>\n",
       "<table border=\"1\" class=\"dataframe\">\n",
       "  <thead>\n",
       "    <tr style=\"text-align: right;\">\n",
       "      <th></th>\n",
       "      <th>bill_id</th>\n",
       "      <th>patient_id</th>\n",
       "      <th>date_of_admission</th>\n",
       "    </tr>\n",
       "  </thead>\n",
       "  <tbody>\n",
       "    <tr>\n",
       "      <th>0</th>\n",
       "      <td>7968360812</td>\n",
       "      <td>1d21f2be18683991eb93d182d6b2d220</td>\n",
       "      <td>2011-01-01</td>\n",
       "    </tr>\n",
       "    <tr>\n",
       "      <th>1</th>\n",
       "      <td>6180579974</td>\n",
       "      <td>62bdca0b95d97e99e1c712048fb9fd09</td>\n",
       "      <td>2011-01-01</td>\n",
       "    </tr>\n",
       "    <tr>\n",
       "      <th>2</th>\n",
       "      <td>7512568183</td>\n",
       "      <td>1d21f2be18683991eb93d182d6b2d220</td>\n",
       "      <td>2011-01-01</td>\n",
       "    </tr>\n",
       "    <tr>\n",
       "      <th>3</th>\n",
       "      <td>3762633379</td>\n",
       "      <td>62bdca0b95d97e99e1c712048fb9fd09</td>\n",
       "      <td>2011-01-01</td>\n",
       "    </tr>\n",
       "    <tr>\n",
       "      <th>4</th>\n",
       "      <td>7654730355</td>\n",
       "      <td>1d21f2be18683991eb93d182d6b2d220</td>\n",
       "      <td>2011-01-01</td>\n",
       "    </tr>\n",
       "    <tr>\n",
       "      <th>...</th>\n",
       "      <td>...</td>\n",
       "      <td>...</td>\n",
       "      <td>...</td>\n",
       "    </tr>\n",
       "    <tr>\n",
       "      <th>13589</th>\n",
       "      <td>6033582275</td>\n",
       "      <td>4f67a54ab205cc9e7e2b0a4ee08e4fba</td>\n",
       "      <td>2015-12-28</td>\n",
       "    </tr>\n",
       "    <tr>\n",
       "      <th>13588</th>\n",
       "      <td>7092335187</td>\n",
       "      <td>ac52a32f8ce8c46d82df2d72052ae5a9</td>\n",
       "      <td>2015-12-28</td>\n",
       "    </tr>\n",
       "    <tr>\n",
       "      <th>13598</th>\n",
       "      <td>9243628699</td>\n",
       "      <td>a4c61deaa9ce86b4d2289eab6128b872</td>\n",
       "      <td>2015-12-28</td>\n",
       "    </tr>\n",
       "    <tr>\n",
       "      <th>13592</th>\n",
       "      <td>498923109</td>\n",
       "      <td>4f67a54ab205cc9e7e2b0a4ee08e4fba</td>\n",
       "      <td>2015-12-28</td>\n",
       "    </tr>\n",
       "    <tr>\n",
       "      <th>13599</th>\n",
       "      <td>4808173213</td>\n",
       "      <td>a4c61deaa9ce86b4d2289eab6128b872</td>\n",
       "      <td>2015-12-28</td>\n",
       "    </tr>\n",
       "  </tbody>\n",
       "</table>\n",
       "<p>13600 rows × 3 columns</p>\n",
       "</div>"
      ],
      "text/plain": [
       "          bill_id                        patient_id date_of_admission\n",
       "0      7968360812  1d21f2be18683991eb93d182d6b2d220        2011-01-01\n",
       "1      6180579974  62bdca0b95d97e99e1c712048fb9fd09        2011-01-01\n",
       "2      7512568183  1d21f2be18683991eb93d182d6b2d220        2011-01-01\n",
       "3      3762633379  62bdca0b95d97e99e1c712048fb9fd09        2011-01-01\n",
       "4      7654730355  1d21f2be18683991eb93d182d6b2d220        2011-01-01\n",
       "...           ...                               ...               ...\n",
       "13589  6033582275  4f67a54ab205cc9e7e2b0a4ee08e4fba        2015-12-28\n",
       "13588  7092335187  ac52a32f8ce8c46d82df2d72052ae5a9        2015-12-28\n",
       "13598  9243628699  a4c61deaa9ce86b4d2289eab6128b872        2015-12-28\n",
       "13592   498923109  4f67a54ab205cc9e7e2b0a4ee08e4fba        2015-12-28\n",
       "13599  4808173213  a4c61deaa9ce86b4d2289eab6128b872        2015-12-28\n",
       "\n",
       "[13600 rows x 3 columns]"
      ]
     },
     "execution_count": 20,
     "metadata": {},
     "output_type": "execute_result"
    }
   ],
   "source": [
    "bid_df.sort_values('date_of_admission')"
   ]
  },
  {
   "cell_type": "code",
   "execution_count": 21,
   "id": "6b2cca4b",
   "metadata": {},
   "outputs": [
    {
     "name": "stdout",
     "output_type": "stream",
     "text": [
      "1822\n"
     ]
    }
   ],
   "source": [
    "from datetime import date\n",
    "f_date = date(2011, 1, 1)\n",
    "l_date = date(2015, 12, 28)\n",
    "delta = l_date - f_date\n",
    "print(delta.days)"
   ]
  },
  {
   "cell_type": "code",
   "execution_count": 22,
   "id": "d58c4899",
   "metadata": {},
   "outputs": [
    {
     "data": {
      "text/plain": [
       "1450"
      ]
     },
     "execution_count": 22,
     "metadata": {},
     "output_type": "execute_result"
    }
   ],
   "source": [
    "len(bid_df['date_of_admission'].value_counts())"
   ]
  },
  {
   "cell_type": "markdown",
   "id": "dc6868ed",
   "metadata": {},
   "source": [
    "#### Timespan of admission date: 2011-01-01 to 2015-12-28\n",
    "    5 years\n",
    "    1822 days\n",
    "    \n",
    "    1450 unique dates"
   ]
  },
  {
   "cell_type": "markdown",
   "id": "95d54fae",
   "metadata": {},
   "source": [
    "## 1d. Clinical Data"
   ]
  },
  {
   "cell_type": "code",
   "execution_count": 23,
   "id": "429d94d6",
   "metadata": {},
   "outputs": [
    {
     "name": "stdout",
     "output_type": "stream",
     "text": [
      "<class 'pandas.core.frame.DataFrame'>\n",
      "RangeIndex: 3400 entries, 0 to 3399\n",
      "Data columns (total 26 columns):\n",
      " #   Column              Non-Null Count  Dtype  \n",
      "---  ------              --------------  -----  \n",
      " 0   id                  3400 non-null   object \n",
      " 1   date_of_admission   3400 non-null   object \n",
      " 2   date_of_discharge   3400 non-null   object \n",
      " 3   medical_history_1   3400 non-null   int64  \n",
      " 4   medical_history_2   3167 non-null   float64\n",
      " 5   medical_history_3   3400 non-null   object \n",
      " 6   medical_history_4   3400 non-null   int64  \n",
      " 7   medical_history_5   3096 non-null   float64\n",
      " 8   medical_history_6   3400 non-null   int64  \n",
      " 9   medical_history_7   3400 non-null   int64  \n",
      " 10  preop_medication_1  3400 non-null   int64  \n",
      " 11  preop_medication_2  3400 non-null   int64  \n",
      " 12  preop_medication_3  3400 non-null   int64  \n",
      " 13  preop_medication_4  3400 non-null   int64  \n",
      " 14  preop_medication_5  3400 non-null   int64  \n",
      " 15  preop_medication_6  3400 non-null   int64  \n",
      " 16  symptom_1           3400 non-null   int64  \n",
      " 17  symptom_2           3400 non-null   int64  \n",
      " 18  symptom_3           3400 non-null   int64  \n",
      " 19  symptom_4           3400 non-null   int64  \n",
      " 20  symptom_5           3400 non-null   int64  \n",
      " 21  lab_result_1        3400 non-null   float64\n",
      " 22  lab_result_2        3400 non-null   float64\n",
      " 23  lab_result_3        3400 non-null   float64\n",
      " 24  weight              3400 non-null   float64\n",
      " 25  height              3400 non-null   float64\n",
      "dtypes: float64(7), int64(15), object(4)\n",
      "memory usage: 690.8+ KB\n"
     ]
    }
   ],
   "source": [
    "cd_df.info()"
   ]
  },
  {
   "cell_type": "code",
   "execution_count": 24,
   "id": "697eb887",
   "metadata": {},
   "outputs": [
    {
     "data": {
      "text/html": [
       "<div>\n",
       "<style scoped>\n",
       "    .dataframe tbody tr th:only-of-type {\n",
       "        vertical-align: middle;\n",
       "    }\n",
       "\n",
       "    .dataframe tbody tr th {\n",
       "        vertical-align: top;\n",
       "    }\n",
       "\n",
       "    .dataframe thead th {\n",
       "        text-align: right;\n",
       "    }\n",
       "</style>\n",
       "<table border=\"1\" class=\"dataframe\">\n",
       "  <thead>\n",
       "    <tr style=\"text-align: right;\">\n",
       "      <th></th>\n",
       "      <th>index</th>\n",
       "      <th>0</th>\n",
       "    </tr>\n",
       "  </thead>\n",
       "  <tbody>\n",
       "    <tr>\n",
       "      <th>4</th>\n",
       "      <td>medical_history_2</td>\n",
       "      <td>233</td>\n",
       "    </tr>\n",
       "    <tr>\n",
       "      <th>7</th>\n",
       "      <td>medical_history_5</td>\n",
       "      <td>304</td>\n",
       "    </tr>\n",
       "  </tbody>\n",
       "</table>\n",
       "</div>"
      ],
      "text/plain": [
       "               index    0\n",
       "4  medical_history_2  233\n",
       "7  medical_history_5  304"
      ]
     },
     "execution_count": 24,
     "metadata": {},
     "output_type": "execute_result"
    }
   ],
   "source": [
    "#check for null values\n",
    "cd_df_null = cd_df.isnull().sum().reset_index()\n",
    "cd_df_null[cd_df_null[0]>0]"
   ]
  },
  {
   "cell_type": "markdown",
   "id": "4fc285b0",
   "metadata": {},
   "source": [
    "### Checking if the 'id' column in clinical_data is the 'patient_id' column"
   ]
  },
  {
   "cell_type": "code",
   "execution_count": 25,
   "id": "84c84dc4",
   "metadata": {
    "scrolled": true
   },
   "outputs": [
    {
     "data": {
      "text/plain": [
       "3000"
      ]
     },
     "execution_count": 25,
     "metadata": {},
     "output_type": "execute_result"
    }
   ],
   "source": [
    "len(cd_df['id'].value_counts())\n",
    "# 3000 unique patients detected"
   ]
  },
  {
   "cell_type": "markdown",
   "id": "e41ef11a",
   "metadata": {},
   "source": [
    "#### Note: 3000 unique patients detected which is identical to the number of unique patients in patient_id columns in demographic data, therefore assume 'id' column represents 'patient_id'"
   ]
  },
  {
   "cell_type": "code",
   "execution_count": 26,
   "id": "11b93c7c",
   "metadata": {
    "scrolled": true
   },
   "outputs": [],
   "source": [
    "cd_df = cd_df.rename(columns={\"id\": \"patient_id\"})"
   ]
  },
  {
   "cell_type": "markdown",
   "id": "76b8be26",
   "metadata": {},
   "source": [
    "### Admission and Discharge dates"
   ]
  },
  {
   "cell_type": "code",
   "execution_count": 27,
   "id": "60f23319",
   "metadata": {
    "scrolled": false
   },
   "outputs": [
    {
     "data": {
      "text/plain": [
       "1450"
      ]
     },
     "execution_count": 27,
     "metadata": {},
     "output_type": "execute_result"
    }
   ],
   "source": [
    "len(cd_df['date_of_admission'].value_counts())\n"
   ]
  },
  {
   "cell_type": "markdown",
   "id": "004f4fad",
   "metadata": {},
   "source": [
    "#### Note: 1450 unique dates, similar to Bill ID dataset."
   ]
  },
  {
   "cell_type": "code",
   "execution_count": 28,
   "id": "8032188f",
   "metadata": {},
   "outputs": [
    {
     "data": {
      "text/plain": [
       "1532"
      ]
     },
     "execution_count": 28,
     "metadata": {},
     "output_type": "execute_result"
    }
   ],
   "source": [
    "len(cd_df['date_of_discharge'].value_counts())"
   ]
  },
  {
   "cell_type": "code",
   "execution_count": 29,
   "id": "c498ee2c",
   "metadata": {},
   "outputs": [
    {
     "data": {
      "text/plain": [
       "0       2011-01-11\n",
       "1       2011-01-11\n",
       "2       2011-01-13\n",
       "3       2011-01-14\n",
       "4       2011-01-16\n",
       "           ...    \n",
       "3396    2016-01-07\n",
       "3395    2016-01-07\n",
       "3397    2016-01-08\n",
       "3398    2016-01-09\n",
       "3399    2016-01-11\n",
       "Name: date_of_discharge, Length: 3400, dtype: object"
      ]
     },
     "execution_count": 29,
     "metadata": {},
     "output_type": "execute_result"
    }
   ],
   "source": [
    "cd_df['date_of_discharge'].sort_values()"
   ]
  },
  {
   "cell_type": "code",
   "execution_count": 30,
   "id": "d76704d7",
   "metadata": {},
   "outputs": [
    {
     "name": "stdout",
     "output_type": "stream",
     "text": [
      "1826\n"
     ]
    }
   ],
   "source": [
    "from datetime import date\n",
    "f_date = date(2011, 1, 11)\n",
    "l_date = date(2016, 1, 11)\n",
    "delta = l_date - f_date\n",
    "print(delta.days)"
   ]
  },
  {
   "cell_type": "markdown",
   "id": "d6144f83",
   "metadata": {},
   "source": [
    "#### Timespan of discharge date: 2011-01-11 to 2016-01-11\n",
    "    5 years\n",
    "    1826 days\n",
    "    \n",
    "    1532 unique dates"
   ]
  },
  {
   "cell_type": "markdown",
   "id": "ffa05c4f",
   "metadata": {},
   "source": [
    "### Assessing medical_history categorizations"
   ]
  },
  {
   "cell_type": "code",
   "execution_count": 31,
   "id": "748e5ac8",
   "metadata": {},
   "outputs": [],
   "source": [
    "med_hist_df = cd_df[['medical_history_1', 'medical_history_2', 'medical_history_3', \n",
    "       'medical_history_4', 'medical_history_5', 'medical_history_6',\n",
    "      'medical_history_7']]"
   ]
  },
  {
   "cell_type": "code",
   "execution_count": 32,
   "id": "3f8913c9",
   "metadata": {
    "scrolled": false
   },
   "outputs": [
    {
     "data": {
      "text/html": [
       "<div>\n",
       "<style scoped>\n",
       "    .dataframe tbody tr th:only-of-type {\n",
       "        vertical-align: middle;\n",
       "    }\n",
       "\n",
       "    .dataframe tbody tr th {\n",
       "        vertical-align: top;\n",
       "    }\n",
       "\n",
       "    .dataframe thead th {\n",
       "        text-align: right;\n",
       "    }\n",
       "</style>\n",
       "<table border=\"1\" class=\"dataframe\">\n",
       "  <thead>\n",
       "    <tr style=\"text-align: right;\">\n",
       "      <th></th>\n",
       "      <th>Medical History</th>\n",
       "      <th>Unique Values</th>\n",
       "    </tr>\n",
       "  </thead>\n",
       "  <tbody>\n",
       "    <tr>\n",
       "      <th>0</th>\n",
       "      <td>medical_history_1</td>\n",
       "      <td>[0, 1]</td>\n",
       "    </tr>\n",
       "    <tr>\n",
       "      <th>1</th>\n",
       "      <td>medical_history_2</td>\n",
       "      <td>[1.0, 0.0, nan]</td>\n",
       "    </tr>\n",
       "    <tr>\n",
       "      <th>2</th>\n",
       "      <td>medical_history_3</td>\n",
       "      <td>[0, No, 1, Yes]</td>\n",
       "    </tr>\n",
       "    <tr>\n",
       "      <th>3</th>\n",
       "      <td>medical_history_4</td>\n",
       "      <td>[0, 1]</td>\n",
       "    </tr>\n",
       "    <tr>\n",
       "      <th>4</th>\n",
       "      <td>medical_history_5</td>\n",
       "      <td>[0.0, nan, 1.0]</td>\n",
       "    </tr>\n",
       "    <tr>\n",
       "      <th>5</th>\n",
       "      <td>medical_history_6</td>\n",
       "      <td>[0, 1]</td>\n",
       "    </tr>\n",
       "    <tr>\n",
       "      <th>6</th>\n",
       "      <td>medical_history_7</td>\n",
       "      <td>[0, 1]</td>\n",
       "    </tr>\n",
       "  </tbody>\n",
       "</table>\n",
       "</div>"
      ],
      "text/plain": [
       "     Medical History    Unique Values\n",
       "0  medical_history_1           [0, 1]\n",
       "1  medical_history_2  [1.0, 0.0, nan]\n",
       "2  medical_history_3  [0, No, 1, Yes]\n",
       "3  medical_history_4           [0, 1]\n",
       "4  medical_history_5  [0.0, nan, 1.0]\n",
       "5  medical_history_6           [0, 1]\n",
       "6  medical_history_7           [0, 1]"
      ]
     },
     "execution_count": 32,
     "metadata": {},
     "output_type": "execute_result"
    }
   ],
   "source": [
    "med_hist_df_values = pd.DataFrame({'Medical History':[i for i in med_hist_df.columns], 'Unique Values':[ med_hist_df[i].unique() for i in med_hist_df.columns]})\n",
    "med_hist_df_values"
   ]
  },
  {
   "cell_type": "markdown",
   "id": "3ee09eee",
   "metadata": {},
   "source": [
    "#### Note: Categorizations need to be standardized to 1 for present and 0 for absent."
   ]
  },
  {
   "cell_type": "markdown",
   "id": "cf7d2fcd",
   "metadata": {},
   "source": [
    "### Transforming medical_history_2"
   ]
  },
  {
   "cell_type": "code",
   "execution_count": 33,
   "id": "0526a860",
   "metadata": {},
   "outputs": [
    {
     "data": {
      "text/plain": [
       "0.0    2181\n",
       "1.0     986\n",
       "Name: medical_history_2, dtype: int64"
      ]
     },
     "execution_count": 33,
     "metadata": {},
     "output_type": "execute_result"
    }
   ],
   "source": [
    "cd_df['medical_history_2'].value_counts()"
   ]
  },
  {
   "cell_type": "code",
   "execution_count": 34,
   "id": "2180d3b4",
   "metadata": {},
   "outputs": [
    {
     "data": {
      "text/plain": [
       "0    2414\n",
       "1     986\n",
       "Name: medical_history_2, dtype: int64"
      ]
     },
     "execution_count": 34,
     "metadata": {},
     "output_type": "execute_result"
    }
   ],
   "source": [
    "null_values = [np.nan, 0.0, 0, 'No']\n",
    "cd_df['medical_history_2'] = cd_df['medical_history_2'].apply(lambda x:1 if x>=1 else 0)\n",
    "cd_df['medical_history_2'].value_counts()"
   ]
  },
  {
   "cell_type": "markdown",
   "id": "d849115e",
   "metadata": {},
   "source": [
    "### Transforming medical_history_5"
   ]
  },
  {
   "cell_type": "code",
   "execution_count": 35,
   "id": "64e0c897",
   "metadata": {},
   "outputs": [
    {
     "data": {
      "text/plain": [
       "0.0    2898\n",
       "1.0     198\n",
       "Name: medical_history_5, dtype: int64"
      ]
     },
     "execution_count": 35,
     "metadata": {},
     "output_type": "execute_result"
    }
   ],
   "source": [
    "cd_df['medical_history_5'].value_counts()"
   ]
  },
  {
   "cell_type": "code",
   "execution_count": 36,
   "id": "0ddb27fd",
   "metadata": {},
   "outputs": [
    {
     "data": {
      "text/plain": [
       "0    3202\n",
       "1     198\n",
       "Name: medical_history_5, dtype: int64"
      ]
     },
     "execution_count": 36,
     "metadata": {},
     "output_type": "execute_result"
    }
   ],
   "source": [
    "cd_df['medical_history_5'] = cd_df['medical_history_5'].apply(lambda x:1 if x>=1 else 0)\n",
    "cd_df['medical_history_5'].value_counts()"
   ]
  },
  {
   "cell_type": "markdown",
   "id": "6dc199ee",
   "metadata": {},
   "source": [
    "### Transforming medical_history_3"
   ]
  },
  {
   "cell_type": "code",
   "execution_count": 37,
   "id": "09f843e4",
   "metadata": {},
   "outputs": [
    {
     "data": {
      "text/plain": [
       "0      2176\n",
       "No      761\n",
       "1       348\n",
       "Yes     115\n",
       "Name: medical_history_3, dtype: int64"
      ]
     },
     "execution_count": 37,
     "metadata": {},
     "output_type": "execute_result"
    }
   ],
   "source": [
    "cd_df['medical_history_3'].value_counts()"
   ]
  },
  {
   "cell_type": "code",
   "execution_count": 38,
   "id": "a71a16a1",
   "metadata": {},
   "outputs": [
    {
     "data": {
      "text/plain": [
       "0    2937\n",
       "1     463\n",
       "Name: medical_history_3, dtype: int64"
      ]
     },
     "execution_count": 38,
     "metadata": {},
     "output_type": "execute_result"
    }
   ],
   "source": [
    "null_values = [np.nan, 0.0, 0, 'No', '0', '0.0']\n",
    "cd_df['medical_history_3'] = cd_df['medical_history_3'].apply(lambda x:0 if x in null_values else 1)\n",
    "cd_df['medical_history_3'].value_counts()"
   ]
  },
  {
   "cell_type": "code",
   "execution_count": 39,
   "id": "e1df4793",
   "metadata": {
    "scrolled": true
   },
   "outputs": [
    {
     "data": {
      "text/html": [
       "<div>\n",
       "<style scoped>\n",
       "    .dataframe tbody tr th:only-of-type {\n",
       "        vertical-align: middle;\n",
       "    }\n",
       "\n",
       "    .dataframe tbody tr th {\n",
       "        vertical-align: top;\n",
       "    }\n",
       "\n",
       "    .dataframe thead th {\n",
       "        text-align: right;\n",
       "    }\n",
       "</style>\n",
       "<table border=\"1\" class=\"dataframe\">\n",
       "  <thead>\n",
       "    <tr style=\"text-align: right;\">\n",
       "      <th></th>\n",
       "      <th>Medical History</th>\n",
       "      <th>Unique Values</th>\n",
       "    </tr>\n",
       "  </thead>\n",
       "  <tbody>\n",
       "    <tr>\n",
       "      <th>0</th>\n",
       "      <td>medical_history_1</td>\n",
       "      <td>[0, 1]</td>\n",
       "    </tr>\n",
       "    <tr>\n",
       "      <th>1</th>\n",
       "      <td>medical_history_2</td>\n",
       "      <td>[1, 0]</td>\n",
       "    </tr>\n",
       "    <tr>\n",
       "      <th>2</th>\n",
       "      <td>medical_history_3</td>\n",
       "      <td>[0, 1]</td>\n",
       "    </tr>\n",
       "    <tr>\n",
       "      <th>3</th>\n",
       "      <td>medical_history_4</td>\n",
       "      <td>[0, 1]</td>\n",
       "    </tr>\n",
       "    <tr>\n",
       "      <th>4</th>\n",
       "      <td>medical_history_5</td>\n",
       "      <td>[0, 1]</td>\n",
       "    </tr>\n",
       "    <tr>\n",
       "      <th>5</th>\n",
       "      <td>medical_history_6</td>\n",
       "      <td>[0, 1]</td>\n",
       "    </tr>\n",
       "    <tr>\n",
       "      <th>6</th>\n",
       "      <td>medical_history_7</td>\n",
       "      <td>[0, 1]</td>\n",
       "    </tr>\n",
       "  </tbody>\n",
       "</table>\n",
       "</div>"
      ],
      "text/plain": [
       "     Medical History Unique Values\n",
       "0  medical_history_1        [0, 1]\n",
       "1  medical_history_2        [1, 0]\n",
       "2  medical_history_3        [0, 1]\n",
       "3  medical_history_4        [0, 1]\n",
       "4  medical_history_5        [0, 1]\n",
       "5  medical_history_6        [0, 1]\n",
       "6  medical_history_7        [0, 1]"
      ]
     },
     "execution_count": 39,
     "metadata": {},
     "output_type": "execute_result"
    }
   ],
   "source": [
    "med_hist_df = cd_df[['medical_history_1', 'medical_history_2', 'medical_history_3', \n",
    "       'medical_history_4', 'medical_history_5', 'medical_history_6',\n",
    "      'medical_history_7']]\n",
    "med_hist_df_values = pd.DataFrame({'Medical History':[i for i in med_hist_df.columns], 'Unique Values':[ med_hist_df[i].unique() for i in med_hist_df.columns]})\n",
    "med_hist_df_values"
   ]
  },
  {
   "cell_type": "code",
   "execution_count": 40,
   "id": "00906cee",
   "metadata": {},
   "outputs": [
    {
     "name": "stdout",
     "output_type": "stream",
     "text": [
      "<class 'pandas.core.frame.DataFrame'>\n",
      "RangeIndex: 3400 entries, 0 to 3399\n",
      "Data columns (total 7 columns):\n",
      " #   Column             Non-Null Count  Dtype\n",
      "---  ------             --------------  -----\n",
      " 0   medical_history_1  3400 non-null   int64\n",
      " 1   medical_history_2  3400 non-null   int64\n",
      " 2   medical_history_3  3400 non-null   int64\n",
      " 3   medical_history_4  3400 non-null   int64\n",
      " 4   medical_history_5  3400 non-null   int64\n",
      " 5   medical_history_6  3400 non-null   int64\n",
      " 6   medical_history_7  3400 non-null   int64\n",
      "dtypes: int64(7)\n",
      "memory usage: 186.1 KB\n"
     ]
    }
   ],
   "source": [
    "med_hist_df.info()"
   ]
  },
  {
   "cell_type": "markdown",
   "id": "2b92686f",
   "metadata": {},
   "source": [
    "#### Note: Medical History Categorizations standardized into 1 for present, 0 for absent (integer format)"
   ]
  },
  {
   "cell_type": "markdown",
   "id": "8abc8d3b",
   "metadata": {},
   "source": [
    "### Pre-op Medication Categorizations"
   ]
  },
  {
   "cell_type": "code",
   "execution_count": 41,
   "id": "77182bb8",
   "metadata": {},
   "outputs": [
    {
     "data": {
      "text/html": [
       "<div>\n",
       "<style scoped>\n",
       "    .dataframe tbody tr th:only-of-type {\n",
       "        vertical-align: middle;\n",
       "    }\n",
       "\n",
       "    .dataframe tbody tr th {\n",
       "        vertical-align: top;\n",
       "    }\n",
       "\n",
       "    .dataframe thead th {\n",
       "        text-align: right;\n",
       "    }\n",
       "</style>\n",
       "<table border=\"1\" class=\"dataframe\">\n",
       "  <thead>\n",
       "    <tr style=\"text-align: right;\">\n",
       "      <th></th>\n",
       "      <th>Pre-Op Medication</th>\n",
       "      <th>Unique Values</th>\n",
       "    </tr>\n",
       "  </thead>\n",
       "  <tbody>\n",
       "    <tr>\n",
       "      <th>0</th>\n",
       "      <td>preop_medication_1</td>\n",
       "      <td>[1, 0]</td>\n",
       "    </tr>\n",
       "    <tr>\n",
       "      <th>1</th>\n",
       "      <td>preop_medication_2</td>\n",
       "      <td>[0, 1]</td>\n",
       "    </tr>\n",
       "    <tr>\n",
       "      <th>2</th>\n",
       "      <td>preop_medication_3</td>\n",
       "      <td>[1, 0]</td>\n",
       "    </tr>\n",
       "    <tr>\n",
       "      <th>3</th>\n",
       "      <td>preop_medication_4</td>\n",
       "      <td>[0, 1]</td>\n",
       "    </tr>\n",
       "    <tr>\n",
       "      <th>4</th>\n",
       "      <td>preop_medication_5</td>\n",
       "      <td>[0, 1]</td>\n",
       "    </tr>\n",
       "    <tr>\n",
       "      <th>5</th>\n",
       "      <td>preop_medication_6</td>\n",
       "      <td>[1, 0]</td>\n",
       "    </tr>\n",
       "  </tbody>\n",
       "</table>\n",
       "</div>"
      ],
      "text/plain": [
       "    Pre-Op Medication Unique Values\n",
       "0  preop_medication_1        [1, 0]\n",
       "1  preop_medication_2        [0, 1]\n",
       "2  preop_medication_3        [1, 0]\n",
       "3  preop_medication_4        [0, 1]\n",
       "4  preop_medication_5        [0, 1]\n",
       "5  preop_medication_6        [1, 0]"
      ]
     },
     "execution_count": 41,
     "metadata": {},
     "output_type": "execute_result"
    }
   ],
   "source": [
    "pom_df = cd_df[['preop_medication_1', 'preop_medication_2', 'preop_medication_3',\n",
    "               'preop_medication_4', 'preop_medication_5', 'preop_medication_6']]\n",
    "pom_df_values = pd.DataFrame({'Pre-Op Medication':[i for i in pom_df.columns], 'Unique Values':[ pom_df[i].unique() for i in pom_df.columns]})\n",
    "pom_df_values"
   ]
  },
  {
   "cell_type": "markdown",
   "id": "96c64361",
   "metadata": {},
   "source": [
    "### Symptom categorizations"
   ]
  },
  {
   "cell_type": "code",
   "execution_count": 42,
   "id": "f1d94c3b",
   "metadata": {},
   "outputs": [
    {
     "data": {
      "text/html": [
       "<div>\n",
       "<style scoped>\n",
       "    .dataframe tbody tr th:only-of-type {\n",
       "        vertical-align: middle;\n",
       "    }\n",
       "\n",
       "    .dataframe tbody tr th {\n",
       "        vertical-align: top;\n",
       "    }\n",
       "\n",
       "    .dataframe thead th {\n",
       "        text-align: right;\n",
       "    }\n",
       "</style>\n",
       "<table border=\"1\" class=\"dataframe\">\n",
       "  <thead>\n",
       "    <tr style=\"text-align: right;\">\n",
       "      <th></th>\n",
       "      <th>Symptoms</th>\n",
       "      <th>Unique Values</th>\n",
       "    </tr>\n",
       "  </thead>\n",
       "  <tbody>\n",
       "    <tr>\n",
       "      <th>0</th>\n",
       "      <td>symptom_1</td>\n",
       "      <td>[0, 1]</td>\n",
       "    </tr>\n",
       "    <tr>\n",
       "      <th>1</th>\n",
       "      <td>symptom_2</td>\n",
       "      <td>[0, 1]</td>\n",
       "    </tr>\n",
       "    <tr>\n",
       "      <th>2</th>\n",
       "      <td>symptom_3</td>\n",
       "      <td>[0, 1]</td>\n",
       "    </tr>\n",
       "    <tr>\n",
       "      <th>3</th>\n",
       "      <td>symptom_4</td>\n",
       "      <td>[1, 0]</td>\n",
       "    </tr>\n",
       "    <tr>\n",
       "      <th>4</th>\n",
       "      <td>symptom_5</td>\n",
       "      <td>[1, 0]</td>\n",
       "    </tr>\n",
       "  </tbody>\n",
       "</table>\n",
       "</div>"
      ],
      "text/plain": [
       "    Symptoms Unique Values\n",
       "0  symptom_1        [0, 1]\n",
       "1  symptom_2        [0, 1]\n",
       "2  symptom_3        [0, 1]\n",
       "3  symptom_4        [1, 0]\n",
       "4  symptom_5        [1, 0]"
      ]
     },
     "execution_count": 42,
     "metadata": {},
     "output_type": "execute_result"
    }
   ],
   "source": [
    "symptoms_df = cd_df[['symptom_1', 'symptom_2', 'symptom_3', \n",
    "       'symptom_4', 'symptom_5']]\n",
    "symptoms_df_values = pd.DataFrame({'Symptoms':[i for i in symptoms_df.columns], 'Unique Values':[ symptoms_df[i].unique() for i in symptoms_df.columns]})\n",
    "symptoms_df_values"
   ]
  },
  {
   "cell_type": "markdown",
   "id": "056cb25e",
   "metadata": {},
   "source": [
    "### Lab Results - check null, outliers"
   ]
  },
  {
   "cell_type": "code",
   "execution_count": 43,
   "id": "d55dcf10",
   "metadata": {
    "scrolled": true
   },
   "outputs": [
    {
     "data": {
      "text/html": [
       "<div>\n",
       "<style scoped>\n",
       "    .dataframe tbody tr th:only-of-type {\n",
       "        vertical-align: middle;\n",
       "    }\n",
       "\n",
       "    .dataframe tbody tr th {\n",
       "        vertical-align: top;\n",
       "    }\n",
       "\n",
       "    .dataframe thead th {\n",
       "        text-align: right;\n",
       "    }\n",
       "</style>\n",
       "<table border=\"1\" class=\"dataframe\">\n",
       "  <thead>\n",
       "    <tr style=\"text-align: right;\">\n",
       "      <th></th>\n",
       "      <th>Lab Result</th>\n",
       "      <th>Unique Values</th>\n",
       "    </tr>\n",
       "  </thead>\n",
       "  <tbody>\n",
       "    <tr>\n",
       "      <th>0</th>\n",
       "      <td>lab_result_1</td>\n",
       "      <td>[13.2, 13.8, 11.2, 13.3, 12.0, 15.8, 12.1, 16....</td>\n",
       "    </tr>\n",
       "    <tr>\n",
       "      <th>1</th>\n",
       "      <td>lab_result_2</td>\n",
       "      <td>[30.9, 22.6, 26.2, 28.4, 27.8, 31.0, 23.0, 26....</td>\n",
       "    </tr>\n",
       "    <tr>\n",
       "      <th>2</th>\n",
       "      <td>lab_result_3</td>\n",
       "      <td>[123.0, 89.0, 100.0, 76.0, 87.0, 75.0, 83.0, 1...</td>\n",
       "    </tr>\n",
       "  </tbody>\n",
       "</table>\n",
       "</div>"
      ],
      "text/plain": [
       "     Lab Result                                      Unique Values\n",
       "0  lab_result_1  [13.2, 13.8, 11.2, 13.3, 12.0, 15.8, 12.1, 16....\n",
       "1  lab_result_2  [30.9, 22.6, 26.2, 28.4, 27.8, 31.0, 23.0, 26....\n",
       "2  lab_result_3  [123.0, 89.0, 100.0, 76.0, 87.0, 75.0, 83.0, 1..."
      ]
     },
     "execution_count": 43,
     "metadata": {},
     "output_type": "execute_result"
    }
   ],
   "source": [
    "lab_df = cd_df[['lab_result_1', 'lab_result_2', 'lab_result_3']]\n",
    "lab_df_values = pd.DataFrame({'Lab Result':[i for i in lab_df.columns], 'Unique Values':[ lab_df[i].unique() for i in lab_df.columns]})\n",
    "lab_df_values"
   ]
  },
  {
   "cell_type": "code",
   "execution_count": 44,
   "id": "f83342b9",
   "metadata": {},
   "outputs": [
    {
     "data": {
      "image/png": "[encoded data removed]",
      "text/plain": [
       "<Figure size 432x288 with 1 Axes>"
      ]
     },
     "metadata": {
      "needs_background": "light"
     },
     "output_type": "display_data"
    }
   ],
   "source": [
    "plt.boxplot(lab_df, vert = False);"
   ]
  },
  {
   "cell_type": "markdown",
   "id": "9901c861",
   "metadata": {},
   "source": [
    "### Weight/Height - check null, outliers"
   ]
  },
  {
   "cell_type": "code",
   "execution_count": 45,
   "id": "031eb857",
   "metadata": {},
   "outputs": [],
   "source": [
    "wh_df = cd_df[['weight', 'height']]"
   ]
  },
  {
   "cell_type": "code",
   "execution_count": 46,
   "id": "2c5aff11",
   "metadata": {},
   "outputs": [
    {
     "data": {
      "image/png": "[encoded data removed]",
      "text/plain": [
       "<Figure size 432x288 with 1 Axes>"
      ]
     },
     "metadata": {
      "needs_background": "light"
     },
     "output_type": "display_data"
    }
   ],
   "source": [
    "plt.boxplot(wh_df, vert = False);"
   ]
  },
  {
   "cell_type": "markdown",
   "id": "8664d92c",
   "metadata": {},
   "source": [
    "## Recheck for null values"
   ]
  },
  {
   "cell_type": "code",
   "execution_count": 47,
   "id": "1e853036",
   "metadata": {},
   "outputs": [
    {
     "name": "stdout",
     "output_type": "stream",
     "text": [
      "<class 'pandas.core.frame.DataFrame'>\n",
      "RangeIndex: 3400 entries, 0 to 3399\n",
      "Data columns (total 26 columns):\n",
      " #   Column              Non-Null Count  Dtype  \n",
      "---  ------              --------------  -----  \n",
      " 0   patient_id          3400 non-null   object \n",
      " 1   date_of_admission   3400 non-null   object \n",
      " 2   date_of_discharge   3400 non-null   object \n",
      " 3   medical_history_1   3400 non-null   int64  \n",
      " 4   medical_history_2   3400 non-null   int64  \n",
      " 5   medical_history_3   3400 non-null   int64  \n",
      " 6   medical_history_4   3400 non-null   int64  \n",
      " 7   medical_history_5   3400 non-null   int64  \n",
      " 8   medical_history_6   3400 non-null   int64  \n",
      " 9   medical_history_7   3400 non-null   int64  \n",
      " 10  preop_medication_1  3400 non-null   int64  \n",
      " 11  preop_medication_2  3400 non-null   int64  \n",
      " 12  preop_medication_3  3400 non-null   int64  \n",
      " 13  preop_medication_4  3400 non-null   int64  \n",
      " 14  preop_medication_5  3400 non-null   int64  \n",
      " 15  preop_medication_6  3400 non-null   int64  \n",
      " 16  symptom_1           3400 non-null   int64  \n",
      " 17  symptom_2           3400 non-null   int64  \n",
      " 18  symptom_3           3400 non-null   int64  \n",
      " 19  symptom_4           3400 non-null   int64  \n",
      " 20  symptom_5           3400 non-null   int64  \n",
      " 21  lab_result_1        3400 non-null   float64\n",
      " 22  lab_result_2        3400 non-null   float64\n",
      " 23  lab_result_3        3400 non-null   float64\n",
      " 24  weight              3400 non-null   float64\n",
      " 25  height              3400 non-null   float64\n",
      "dtypes: float64(5), int64(18), object(3)\n",
      "memory usage: 690.8+ KB\n"
     ]
    }
   ],
   "source": [
    "cd_df.info()"
   ]
  },
  {
   "cell_type": "code",
   "execution_count": 48,
   "id": "a4deaa09",
   "metadata": {},
   "outputs": [
    {
     "data": {
      "text/html": [
       "<div>\n",
       "<style scoped>\n",
       "    .dataframe tbody tr th:only-of-type {\n",
       "        vertical-align: middle;\n",
       "    }\n",
       "\n",
       "    .dataframe tbody tr th {\n",
       "        vertical-align: top;\n",
       "    }\n",
       "\n",
       "    .dataframe thead th {\n",
       "        text-align: right;\n",
       "    }\n",
       "</style>\n",
       "<table border=\"1\" class=\"dataframe\">\n",
       "  <thead>\n",
       "    <tr style=\"text-align: right;\">\n",
       "      <th></th>\n",
       "      <th>index</th>\n",
       "      <th>0</th>\n",
       "    </tr>\n",
       "  </thead>\n",
       "  <tbody>\n",
       "  </tbody>\n",
       "</table>\n",
       "</div>"
      ],
      "text/plain": [
       "Empty DataFrame\n",
       "Columns: [index, 0]\n",
       "Index: []"
      ]
     },
     "execution_count": 48,
     "metadata": {},
     "output_type": "execute_result"
    }
   ],
   "source": [
    "cd_df_null = cd_df.isnull().sum().reset_index()\n",
    "cd_df_null[cd_df_null[0]>0]"
   ]
  },
  {
   "cell_type": "markdown",
   "id": "3866dd0a",
   "metadata": {},
   "source": [
    "## 1e. Demographic Data"
   ]
  },
  {
   "cell_type": "code",
   "execution_count": 49,
   "id": "3d32b1c0",
   "metadata": {},
   "outputs": [
    {
     "data": {
      "text/html": [
       "<div>\n",
       "<style scoped>\n",
       "    .dataframe tbody tr th:only-of-type {\n",
       "        vertical-align: middle;\n",
       "    }\n",
       "\n",
       "    .dataframe tbody tr th {\n",
       "        vertical-align: top;\n",
       "    }\n",
       "\n",
       "    .dataframe thead th {\n",
       "        text-align: right;\n",
       "    }\n",
       "</style>\n",
       "<table border=\"1\" class=\"dataframe\">\n",
       "  <thead>\n",
       "    <tr style=\"text-align: right;\">\n",
       "      <th></th>\n",
       "      <th>patient_id</th>\n",
       "      <th>gender</th>\n",
       "      <th>race</th>\n",
       "      <th>resident_status</th>\n",
       "      <th>date_of_birth</th>\n",
       "    </tr>\n",
       "  </thead>\n",
       "  <tbody>\n",
       "    <tr>\n",
       "      <th>0</th>\n",
       "      <td>fa2d818b2261e44e30628ad1ac9cc72c</td>\n",
       "      <td>Female</td>\n",
       "      <td>Indian</td>\n",
       "      <td>Singaporean</td>\n",
       "      <td>1971-05-14</td>\n",
       "    </tr>\n",
       "    <tr>\n",
       "      <th>1</th>\n",
       "      <td>5b6477c5de78d0b138e3b0c18e21d0ae</td>\n",
       "      <td>f</td>\n",
       "      <td>Chinese</td>\n",
       "      <td>Singapore citizen</td>\n",
       "      <td>1976-02-18</td>\n",
       "    </tr>\n",
       "    <tr>\n",
       "      <th>2</th>\n",
       "      <td>320aa16c61937447fd6631bf635e7fde</td>\n",
       "      <td>Male</td>\n",
       "      <td>Chinese</td>\n",
       "      <td>Singapore citizen</td>\n",
       "      <td>1982-07-03</td>\n",
       "    </tr>\n",
       "    <tr>\n",
       "      <th>3</th>\n",
       "      <td>c7f3881684045e6c49020481020fae36</td>\n",
       "      <td>Male</td>\n",
       "      <td>Malay</td>\n",
       "      <td>Singapore citizen</td>\n",
       "      <td>1947-06-15</td>\n",
       "    </tr>\n",
       "    <tr>\n",
       "      <th>4</th>\n",
       "      <td>541ad077cb4a0e64cc422673afe28aef</td>\n",
       "      <td>m</td>\n",
       "      <td>Chinese</td>\n",
       "      <td>Singaporean</td>\n",
       "      <td>1970-12-12</td>\n",
       "    </tr>\n",
       "    <tr>\n",
       "      <th>...</th>\n",
       "      <td>...</td>\n",
       "      <td>...</td>\n",
       "      <td>...</td>\n",
       "      <td>...</td>\n",
       "      <td>...</td>\n",
       "    </tr>\n",
       "    <tr>\n",
       "      <th>2995</th>\n",
       "      <td>0ba769860b060834b8c728ad26137c7f</td>\n",
       "      <td>Female</td>\n",
       "      <td>Malay</td>\n",
       "      <td>PR</td>\n",
       "      <td>1948-01-02</td>\n",
       "    </tr>\n",
       "    <tr>\n",
       "      <th>2996</th>\n",
       "      <td>a27a55b92a7afd9cfc427085a2734385</td>\n",
       "      <td>Female</td>\n",
       "      <td>Malay</td>\n",
       "      <td>Singaporean</td>\n",
       "      <td>1942-03-08</td>\n",
       "    </tr>\n",
       "    <tr>\n",
       "      <th>2997</th>\n",
       "      <td>c17a0f4c4f3931bed36081fabf501396</td>\n",
       "      <td>Male</td>\n",
       "      <td>Indian</td>\n",
       "      <td>Singaporean</td>\n",
       "      <td>1964-01-02</td>\n",
       "    </tr>\n",
       "    <tr>\n",
       "      <th>2998</th>\n",
       "      <td>c5ca8e8bfd744a1ef6f77318bcb591b4</td>\n",
       "      <td>Female</td>\n",
       "      <td>Chinese</td>\n",
       "      <td>Singaporean</td>\n",
       "      <td>1973-04-19</td>\n",
       "    </tr>\n",
       "    <tr>\n",
       "      <th>2999</th>\n",
       "      <td>20b609609d4dbb834d722ddf29f18879</td>\n",
       "      <td>Male</td>\n",
       "      <td>Chinese</td>\n",
       "      <td>Singaporean</td>\n",
       "      <td>1986-09-04</td>\n",
       "    </tr>\n",
       "  </tbody>\n",
       "</table>\n",
       "<p>3000 rows × 5 columns</p>\n",
       "</div>"
      ],
      "text/plain": [
       "                            patient_id  gender     race    resident_status  \\\n",
       "0     fa2d818b2261e44e30628ad1ac9cc72c  Female   Indian        Singaporean   \n",
       "1     5b6477c5de78d0b138e3b0c18e21d0ae       f  Chinese  Singapore citizen   \n",
       "2     320aa16c61937447fd6631bf635e7fde    Male  Chinese  Singapore citizen   \n",
       "3     c7f3881684045e6c49020481020fae36    Male    Malay  Singapore citizen   \n",
       "4     541ad077cb4a0e64cc422673afe28aef       m  Chinese        Singaporean   \n",
       "...                                ...     ...      ...                ...   \n",
       "2995  0ba769860b060834b8c728ad26137c7f  Female    Malay                 PR   \n",
       "2996  a27a55b92a7afd9cfc427085a2734385  Female    Malay        Singaporean   \n",
       "2997  c17a0f4c4f3931bed36081fabf501396    Male   Indian        Singaporean   \n",
       "2998  c5ca8e8bfd744a1ef6f77318bcb591b4  Female  Chinese        Singaporean   \n",
       "2999  20b609609d4dbb834d722ddf29f18879    Male  Chinese        Singaporean   \n",
       "\n",
       "     date_of_birth  \n",
       "0       1971-05-14  \n",
       "1       1976-02-18  \n",
       "2       1982-07-03  \n",
       "3       1947-06-15  \n",
       "4       1970-12-12  \n",
       "...            ...  \n",
       "2995    1948-01-02  \n",
       "2996    1942-03-08  \n",
       "2997    1964-01-02  \n",
       "2998    1973-04-19  \n",
       "2999    1986-09-04  \n",
       "\n",
       "[3000 rows x 5 columns]"
      ]
     },
     "execution_count": 49,
     "metadata": {},
     "output_type": "execute_result"
    }
   ],
   "source": [
    "demo_df"
   ]
  },
  {
   "cell_type": "code",
   "execution_count": 50,
   "id": "ab8bcdbb",
   "metadata": {
    "scrolled": true
   },
   "outputs": [
    {
     "data": {
      "text/html": [
       "<div>\n",
       "<style scoped>\n",
       "    .dataframe tbody tr th:only-of-type {\n",
       "        vertical-align: middle;\n",
       "    }\n",
       "\n",
       "    .dataframe tbody tr th {\n",
       "        vertical-align: top;\n",
       "    }\n",
       "\n",
       "    .dataframe thead th {\n",
       "        text-align: right;\n",
       "    }\n",
       "</style>\n",
       "<table border=\"1\" class=\"dataframe\">\n",
       "  <thead>\n",
       "    <tr style=\"text-align: right;\">\n",
       "      <th></th>\n",
       "      <th>Symptoms</th>\n",
       "      <th>Unique Values</th>\n",
       "    </tr>\n",
       "  </thead>\n",
       "  <tbody>\n",
       "    <tr>\n",
       "      <th>0</th>\n",
       "      <td>gender</td>\n",
       "      <td>[Female, f, Male, m]</td>\n",
       "    </tr>\n",
       "    <tr>\n",
       "      <th>1</th>\n",
       "      <td>race</td>\n",
       "      <td>[Indian, Chinese, Malay, chinese, India, Others]</td>\n",
       "    </tr>\n",
       "    <tr>\n",
       "      <th>2</th>\n",
       "      <td>resident_status</td>\n",
       "      <td>[Singaporean, Singapore citizen, PR, Foreigner]</td>\n",
       "    </tr>\n",
       "  </tbody>\n",
       "</table>\n",
       "</div>"
      ],
      "text/plain": [
       "          Symptoms                                     Unique Values\n",
       "0           gender                              [Female, f, Male, m]\n",
       "1             race  [Indian, Chinese, Malay, chinese, India, Others]\n",
       "2  resident_status   [Singaporean, Singapore citizen, PR, Foreigner]"
      ]
     },
     "execution_count": 50,
     "metadata": {},
     "output_type": "execute_result"
    }
   ],
   "source": [
    "demo_subset = demo_df[['gender', 'race', 'resident_status']]\n",
    "demo_df_values = pd.DataFrame({'Symptoms':[i for i in demo_subset.columns], 'Unique Values':[ demo_subset[i].unique() for i in demo_subset.columns]})\n",
    "demo_df_values"
   ]
  },
  {
   "cell_type": "markdown",
   "id": "0f142f37",
   "metadata": {},
   "source": [
    "#### Gender"
   ]
  },
  {
   "cell_type": "markdown",
   "id": "4ac286bf",
   "metadata": {},
   "source": [
    "Casting gender data to integer type\n",
    "\n",
    "Male: 0\n",
    "\n",
    "Female: 1"
   ]
  },
  {
   "cell_type": "code",
   "execution_count": 51,
   "id": "a0d9fa3c",
   "metadata": {},
   "outputs": [
    {
     "data": {
      "text/plain": [
       "Female    1396\n",
       "Male      1333\n",
       "m          170\n",
       "f          101\n",
       "Name: gender, dtype: int64"
      ]
     },
     "execution_count": 51,
     "metadata": {},
     "output_type": "execute_result"
    }
   ],
   "source": [
    "demo_subset['gender'].value_counts()"
   ]
  },
  {
   "cell_type": "code",
   "execution_count": 52,
   "id": "8957655e",
   "metadata": {
    "scrolled": true
   },
   "outputs": [
    {
     "data": {
      "text/plain": [
       "1    1503\n",
       "0    1497\n",
       "Name: gender, dtype: int64"
      ]
     },
     "execution_count": 52,
     "metadata": {},
     "output_type": "execute_result"
    }
   ],
   "source": [
    "male = ['Male', 'm']\n",
    "demo_df['gender'] = demo_subset['gender'].apply(lambda x:1 if x in male else 0)\n",
    "demo_df['gender'].value_counts()"
   ]
  },
  {
   "cell_type": "markdown",
   "id": "fb51fc99",
   "metadata": {},
   "source": [
    "#### Race"
   ]
  },
  {
   "cell_type": "markdown",
   "id": "b7e0c510",
   "metadata": {},
   "source": [
    "Casting race data to integer type\n",
    "\n",
    "Chinese: 0\n",
    "\n",
    "Malay: 1\n",
    "\n",
    "Indian: 2\n",
    "\n",
    "Others: 3"
   ]
  },
  {
   "cell_type": "code",
   "execution_count": 53,
   "id": "74c835a2",
   "metadata": {},
   "outputs": [
    {
     "data": {
      "text/plain": [
       "Chinese    1608\n",
       "Malay       629\n",
       "chinese     307\n",
       "Indian      195\n",
       "Others      161\n",
       "India       100\n",
       "Name: race, dtype: int64"
      ]
     },
     "execution_count": 53,
     "metadata": {},
     "output_type": "execute_result"
    }
   ],
   "source": [
    "demo_subset['race'].value_counts()"
   ]
  },
  {
   "cell_type": "code",
   "execution_count": 54,
   "id": "0cb53f1a",
   "metadata": {},
   "outputs": [
    {
     "data": {
      "text/plain": [
       "0    1915\n",
       "1     629\n",
       "2     295\n",
       "3     161\n",
       "Name: race, dtype: int64"
      ]
     },
     "execution_count": 54,
     "metadata": {},
     "output_type": "execute_result"
    }
   ],
   "source": [
    "demo_df['race'] = demo_subset['race'].replace(regex={r'.hine.': 0, '.ala.': 1, '.ndi.': 2, '.ther.': 3})\n",
    "demo_df['race'].value_counts()"
   ]
  },
  {
   "cell_type": "markdown",
   "id": "ea62b6d5",
   "metadata": {},
   "source": [
    "#### Resident Status"
   ]
  },
  {
   "cell_type": "markdown",
   "id": "1475ab00",
   "metadata": {},
   "source": [
    "Casting resident status data to integer type\n",
    "\n",
    "Singaporean: 0\n",
    "\n",
    "PR: 1\n",
    "\n",
    "Foreigner: 2\n"
   ]
  },
  {
   "cell_type": "code",
   "execution_count": 55,
   "id": "780b17fe",
   "metadata": {},
   "outputs": [
    {
     "data": {
      "text/plain": [
       "Singaporean          1782\n",
       "Singapore citizen     610\n",
       "PR                    465\n",
       "Foreigner             143\n",
       "Name: resident_status, dtype: int64"
      ]
     },
     "execution_count": 55,
     "metadata": {},
     "output_type": "execute_result"
    }
   ],
   "source": [
    "demo_subset['resident_status'].value_counts()"
   ]
  },
  {
   "cell_type": "code",
   "execution_count": 56,
   "id": "72dd23d9",
   "metadata": {},
   "outputs": [
    {
     "data": {
      "text/plain": [
       "0    2392\n",
       "1     465\n",
       "2     143\n",
       "Name: resident_status, dtype: int64"
      ]
     },
     "execution_count": 56,
     "metadata": {},
     "output_type": "execute_result"
    }
   ],
   "source": [
    "demo_df['resident_status'] = demo_subset['resident_status'].replace(regex={r'.ingapore': 0, 'PR': 1, 'Foreigner': 2})\n",
    "demo_df['resident_status'].value_counts()"
   ]
  },
  {
   "cell_type": "code",
   "execution_count": 57,
   "id": "bd143d1f",
   "metadata": {},
   "outputs": [
    {
     "data": {
      "text/html": [
       "<div>\n",
       "<style scoped>\n",
       "    .dataframe tbody tr th:only-of-type {\n",
       "        vertical-align: middle;\n",
       "    }\n",
       "\n",
       "    .dataframe tbody tr th {\n",
       "        vertical-align: top;\n",
       "    }\n",
       "\n",
       "    .dataframe thead th {\n",
       "        text-align: right;\n",
       "    }\n",
       "</style>\n",
       "<table border=\"1\" class=\"dataframe\">\n",
       "  <thead>\n",
       "    <tr style=\"text-align: right;\">\n",
       "      <th></th>\n",
       "      <th>patient_id</th>\n",
       "      <th>gender</th>\n",
       "      <th>race</th>\n",
       "      <th>resident_status</th>\n",
       "      <th>date_of_birth</th>\n",
       "    </tr>\n",
       "  </thead>\n",
       "  <tbody>\n",
       "    <tr>\n",
       "      <th>0</th>\n",
       "      <td>fa2d818b2261e44e30628ad1ac9cc72c</td>\n",
       "      <td>0</td>\n",
       "      <td>2</td>\n",
       "      <td>0</td>\n",
       "      <td>1971-05-14</td>\n",
       "    </tr>\n",
       "    <tr>\n",
       "      <th>1</th>\n",
       "      <td>5b6477c5de78d0b138e3b0c18e21d0ae</td>\n",
       "      <td>0</td>\n",
       "      <td>0</td>\n",
       "      <td>0</td>\n",
       "      <td>1976-02-18</td>\n",
       "    </tr>\n",
       "    <tr>\n",
       "      <th>2</th>\n",
       "      <td>320aa16c61937447fd6631bf635e7fde</td>\n",
       "      <td>1</td>\n",
       "      <td>0</td>\n",
       "      <td>0</td>\n",
       "      <td>1982-07-03</td>\n",
       "    </tr>\n",
       "    <tr>\n",
       "      <th>3</th>\n",
       "      <td>c7f3881684045e6c49020481020fae36</td>\n",
       "      <td>1</td>\n",
       "      <td>1</td>\n",
       "      <td>0</td>\n",
       "      <td>1947-06-15</td>\n",
       "    </tr>\n",
       "    <tr>\n",
       "      <th>4</th>\n",
       "      <td>541ad077cb4a0e64cc422673afe28aef</td>\n",
       "      <td>1</td>\n",
       "      <td>0</td>\n",
       "      <td>0</td>\n",
       "      <td>1970-12-12</td>\n",
       "    </tr>\n",
       "    <tr>\n",
       "      <th>...</th>\n",
       "      <td>...</td>\n",
       "      <td>...</td>\n",
       "      <td>...</td>\n",
       "      <td>...</td>\n",
       "      <td>...</td>\n",
       "    </tr>\n",
       "    <tr>\n",
       "      <th>2995</th>\n",
       "      <td>0ba769860b060834b8c728ad26137c7f</td>\n",
       "      <td>0</td>\n",
       "      <td>1</td>\n",
       "      <td>1</td>\n",
       "      <td>1948-01-02</td>\n",
       "    </tr>\n",
       "    <tr>\n",
       "      <th>2996</th>\n",
       "      <td>a27a55b92a7afd9cfc427085a2734385</td>\n",
       "      <td>0</td>\n",
       "      <td>1</td>\n",
       "      <td>0</td>\n",
       "      <td>1942-03-08</td>\n",
       "    </tr>\n",
       "    <tr>\n",
       "      <th>2997</th>\n",
       "      <td>c17a0f4c4f3931bed36081fabf501396</td>\n",
       "      <td>1</td>\n",
       "      <td>2</td>\n",
       "      <td>0</td>\n",
       "      <td>1964-01-02</td>\n",
       "    </tr>\n",
       "    <tr>\n",
       "      <th>2998</th>\n",
       "      <td>c5ca8e8bfd744a1ef6f77318bcb591b4</td>\n",
       "      <td>0</td>\n",
       "      <td>0</td>\n",
       "      <td>0</td>\n",
       "      <td>1973-04-19</td>\n",
       "    </tr>\n",
       "    <tr>\n",
       "      <th>2999</th>\n",
       "      <td>20b609609d4dbb834d722ddf29f18879</td>\n",
       "      <td>1</td>\n",
       "      <td>0</td>\n",
       "      <td>0</td>\n",
       "      <td>1986-09-04</td>\n",
       "    </tr>\n",
       "  </tbody>\n",
       "</table>\n",
       "<p>3000 rows × 5 columns</p>\n",
       "</div>"
      ],
      "text/plain": [
       "                            patient_id  gender  race  resident_status  \\\n",
       "0     fa2d818b2261e44e30628ad1ac9cc72c       0     2                0   \n",
       "1     5b6477c5de78d0b138e3b0c18e21d0ae       0     0                0   \n",
       "2     320aa16c61937447fd6631bf635e7fde       1     0                0   \n",
       "3     c7f3881684045e6c49020481020fae36       1     1                0   \n",
       "4     541ad077cb4a0e64cc422673afe28aef       1     0                0   \n",
       "...                                ...     ...   ...              ...   \n",
       "2995  0ba769860b060834b8c728ad26137c7f       0     1                1   \n",
       "2996  a27a55b92a7afd9cfc427085a2734385       0     1                0   \n",
       "2997  c17a0f4c4f3931bed36081fabf501396       1     2                0   \n",
       "2998  c5ca8e8bfd744a1ef6f77318bcb591b4       0     0                0   \n",
       "2999  20b609609d4dbb834d722ddf29f18879       1     0                0   \n",
       "\n",
       "     date_of_birth  \n",
       "0       1971-05-14  \n",
       "1       1976-02-18  \n",
       "2       1982-07-03  \n",
       "3       1947-06-15  \n",
       "4       1970-12-12  \n",
       "...            ...  \n",
       "2995    1948-01-02  \n",
       "2996    1942-03-08  \n",
       "2997    1964-01-02  \n",
       "2998    1973-04-19  \n",
       "2999    1986-09-04  \n",
       "\n",
       "[3000 rows x 5 columns]"
      ]
     },
     "execution_count": 57,
     "metadata": {},
     "output_type": "execute_result"
    }
   ],
   "source": [
    "demo_df"
   ]
  },
  {
   "cell_type": "code",
   "execution_count": 58,
   "id": "052b16c5",
   "metadata": {},
   "outputs": [
    {
     "data": {
      "text/html": [
       "<div>\n",
       "<style scoped>\n",
       "    .dataframe tbody tr th:only-of-type {\n",
       "        vertical-align: middle;\n",
       "    }\n",
       "\n",
       "    .dataframe tbody tr th {\n",
       "        vertical-align: top;\n",
       "    }\n",
       "\n",
       "    .dataframe thead th {\n",
       "        text-align: right;\n",
       "    }\n",
       "</style>\n",
       "<table border=\"1\" class=\"dataframe\">\n",
       "  <thead>\n",
       "    <tr style=\"text-align: right;\">\n",
       "      <th></th>\n",
       "      <th>Symptoms</th>\n",
       "      <th>Unique Values</th>\n",
       "    </tr>\n",
       "  </thead>\n",
       "  <tbody>\n",
       "    <tr>\n",
       "      <th>0</th>\n",
       "      <td>gender</td>\n",
       "      <td>[0, 1]</td>\n",
       "    </tr>\n",
       "    <tr>\n",
       "      <th>1</th>\n",
       "      <td>race</td>\n",
       "      <td>[2, 0, 1, 3]</td>\n",
       "    </tr>\n",
       "    <tr>\n",
       "      <th>2</th>\n",
       "      <td>resident_status</td>\n",
       "      <td>[0, 1, 2]</td>\n",
       "    </tr>\n",
       "  </tbody>\n",
       "</table>\n",
       "</div>"
      ],
      "text/plain": [
       "          Symptoms Unique Values\n",
       "0           gender        [0, 1]\n",
       "1             race  [2, 0, 1, 3]\n",
       "2  resident_status     [0, 1, 2]"
      ]
     },
     "execution_count": 58,
     "metadata": {},
     "output_type": "execute_result"
    }
   ],
   "source": [
    "demo_subset = demo_df[['gender', 'race', 'resident_status']]\n",
    "demo_df_values = pd.DataFrame({'Symptoms':[i for i in demo_subset.columns], 'Unique Values':[ demo_subset[i].unique() for i in demo_subset.columns]})\n",
    "demo_df_values"
   ]
  },
  {
   "cell_type": "markdown",
   "id": "25189e80",
   "metadata": {},
   "source": [
    "# 2. Merging Datasets"
   ]
  },
  {
   "cell_type": "markdown",
   "id": "b546edb8",
   "metadata": {},
   "source": [
    "Merging datasets\n",
    "\n",
    "1. Merge bill_amount (ba_df) with bill_id (bid_df) on bill_id to get bill_df\n",
    "2. Merge bill_df with clinical_data (cd_df) on patient_id to get clin_bill_df\n",
    "3. Merge clin_bill_df with demo_df on patient_id to get df\n",
    "\n"
   ]
  },
  {
   "cell_type": "code",
   "execution_count": 59,
   "id": "1b9f830a",
   "metadata": {},
   "outputs": [
    {
     "name": "stdout",
     "output_type": "stream",
     "text": [
      "(13600, 2)\n",
      "(13600, 3)\n",
      "(3400, 26)\n",
      "(3000, 5)\n"
     ]
    }
   ],
   "source": [
    "print(ba_df.shape)\n",
    "print(bid_df.shape)\n",
    "print(cd_df.shape)\n",
    "print(demo_df.shape)"
   ]
  },
  {
   "cell_type": "code",
   "execution_count": 60,
   "id": "fe0dd045",
   "metadata": {},
   "outputs": [],
   "source": [
    "bill_df = ba_df.merge(bid_df, how = 'inner', on = 'bill_id')"
   ]
  },
  {
   "cell_type": "code",
   "execution_count": 61,
   "id": "6618e410",
   "metadata": {},
   "outputs": [
    {
     "data": {
      "text/plain": [
       "(13600, 4)"
      ]
     },
     "execution_count": 61,
     "metadata": {},
     "output_type": "execute_result"
    }
   ],
   "source": [
    "bill_df.shape"
   ]
  },
  {
   "cell_type": "code",
   "execution_count": 62,
   "id": "20a6a2df",
   "metadata": {},
   "outputs": [],
   "source": [
    "clin_bill_df = pd.merge(bill_df, cd_df,  how='left', left_on=['patient_id','date_of_admission'], right_on = ['patient_id','date_of_admission'])\n",
    "\n"
   ]
  },
  {
   "cell_type": "markdown",
   "id": "4df80626",
   "metadata": {},
   "source": [
    "#### joining on not only on 'patient_id' column but also 'date_of_admission' column to preserve differing clinical data presented by the same patient across multiple visits"
   ]
  },
  {
   "cell_type": "code",
   "execution_count": 63,
   "id": "e49062c7",
   "metadata": {
    "scrolled": true
   },
   "outputs": [
    {
     "data": {
      "text/plain": [
       "(13600, 28)"
      ]
     },
     "execution_count": 63,
     "metadata": {},
     "output_type": "execute_result"
    }
   ],
   "source": [
    "clin_bill_df.shape"
   ]
  },
  {
   "cell_type": "code",
   "execution_count": 64,
   "id": "c422510c",
   "metadata": {},
   "outputs": [],
   "source": [
    "df = clin_bill_df.merge(demo_df, how = 'inner', on = 'patient_id')"
   ]
  },
  {
   "cell_type": "code",
   "execution_count": 65,
   "id": "d1ac7cf6",
   "metadata": {},
   "outputs": [
    {
     "data": {
      "text/plain": [
       "(13600, 32)"
      ]
     },
     "execution_count": 65,
     "metadata": {},
     "output_type": "execute_result"
    }
   ],
   "source": [
    "df.shape"
   ]
  },
  {
   "cell_type": "code",
   "execution_count": 66,
   "id": "64e4ded7",
   "metadata": {
    "scrolled": true
   },
   "outputs": [
    {
     "name": "stdout",
     "output_type": "stream",
     "text": [
      "<class 'pandas.core.frame.DataFrame'>\n",
      "Int64Index: 13600 entries, 0 to 13599\n",
      "Data columns (total 32 columns):\n",
      " #   Column              Non-Null Count  Dtype  \n",
      "---  ------              --------------  -----  \n",
      " 0   bill_id             13600 non-null  int64  \n",
      " 1   amount              13600 non-null  float64\n",
      " 2   patient_id          13600 non-null  object \n",
      " 3   date_of_admission   13600 non-null  object \n",
      " 4   date_of_discharge   13600 non-null  object \n",
      " 5   medical_history_1   13600 non-null  int64  \n",
      " 6   medical_history_2   13600 non-null  int64  \n",
      " 7   medical_history_3   13600 non-null  int64  \n",
      " 8   medical_history_4   13600 non-null  int64  \n",
      " 9   medical_history_5   13600 non-null  int64  \n",
      " 10  medical_history_6   13600 non-null  int64  \n",
      " 11  medical_history_7   13600 non-null  int64  \n",
      " 12  preop_medication_1  13600 non-null  int64  \n",
      " 13  preop_medication_2  13600 non-null  int64  \n",
      " 14  preop_medication_3  13600 non-null  int64  \n",
      " 15  preop_medication_4  13600 non-null  int64  \n",
      " 16  preop_medication_5  13600 non-null  int64  \n",
      " 17  preop_medication_6  13600 non-null  int64  \n",
      " 18  symptom_1           13600 non-null  int64  \n",
      " 19  symptom_2           13600 non-null  int64  \n",
      " 20  symptom_3           13600 non-null  int64  \n",
      " 21  symptom_4           13600 non-null  int64  \n",
      " 22  symptom_5           13600 non-null  int64  \n",
      " 23  lab_result_1        13600 non-null  float64\n",
      " 24  lab_result_2        13600 non-null  float64\n",
      " 25  lab_result_3        13600 non-null  float64\n",
      " 26  weight              13600 non-null  float64\n",
      " 27  height              13600 non-null  float64\n",
      " 28  gender              13600 non-null  int64  \n",
      " 29  race                13600 non-null  int64  \n",
      " 30  resident_status     13600 non-null  int64  \n",
      " 31  date_of_birth       13600 non-null  object \n",
      "dtypes: float64(6), int64(22), object(4)\n",
      "memory usage: 3.4+ MB\n"
     ]
    }
   ],
   "source": [
    "df.info()"
   ]
  },
  {
   "cell_type": "code",
   "execution_count": 67,
   "id": "df7c3185",
   "metadata": {},
   "outputs": [
    {
     "data": {
      "text/html": [
       "<div>\n",
       "<style scoped>\n",
       "    .dataframe tbody tr th:only-of-type {\n",
       "        vertical-align: middle;\n",
       "    }\n",
       "\n",
       "    .dataframe tbody tr th {\n",
       "        vertical-align: top;\n",
       "    }\n",
       "\n",
       "    .dataframe thead th {\n",
       "        text-align: right;\n",
       "    }\n",
       "</style>\n",
       "<table border=\"1\" class=\"dataframe\">\n",
       "  <thead>\n",
       "    <tr style=\"text-align: right;\">\n",
       "      <th></th>\n",
       "      <th>bill_id</th>\n",
       "      <th>amount</th>\n",
       "      <th>patient_id</th>\n",
       "      <th>date_of_admission</th>\n",
       "      <th>date_of_discharge</th>\n",
       "      <th>medical_history_1</th>\n",
       "      <th>medical_history_2</th>\n",
       "      <th>medical_history_3</th>\n",
       "      <th>medical_history_4</th>\n",
       "      <th>medical_history_5</th>\n",
       "      <th>...</th>\n",
       "      <th>symptom_5</th>\n",
       "      <th>lab_result_1</th>\n",
       "      <th>lab_result_2</th>\n",
       "      <th>lab_result_3</th>\n",
       "      <th>weight</th>\n",
       "      <th>height</th>\n",
       "      <th>gender</th>\n",
       "      <th>race</th>\n",
       "      <th>resident_status</th>\n",
       "      <th>date_of_birth</th>\n",
       "    </tr>\n",
       "  </thead>\n",
       "  <tbody>\n",
       "    <tr>\n",
       "      <th>0</th>\n",
       "      <td>40315104</td>\n",
       "      <td>1552.634830</td>\n",
       "      <td>96a76ec5bbcb1d1562c40b9b972e356d</td>\n",
       "      <td>2012-10-22</td>\n",
       "      <td>2012-11-03</td>\n",
       "      <td>0</td>\n",
       "      <td>0</td>\n",
       "      <td>0</td>\n",
       "      <td>0</td>\n",
       "      <td>0</td>\n",
       "      <td>...</td>\n",
       "      <td>1</td>\n",
       "      <td>17.6</td>\n",
       "      <td>31.8</td>\n",
       "      <td>98.0</td>\n",
       "      <td>65.1</td>\n",
       "      <td>166.0</td>\n",
       "      <td>0</td>\n",
       "      <td>1</td>\n",
       "      <td>0</td>\n",
       "      <td>1967-05-15</td>\n",
       "    </tr>\n",
       "    <tr>\n",
       "      <th>1</th>\n",
       "      <td>7040712549</td>\n",
       "      <td>27923.446312</td>\n",
       "      <td>96a76ec5bbcb1d1562c40b9b972e356d</td>\n",
       "      <td>2012-10-22</td>\n",
       "      <td>2012-11-03</td>\n",
       "      <td>0</td>\n",
       "      <td>0</td>\n",
       "      <td>0</td>\n",
       "      <td>0</td>\n",
       "      <td>0</td>\n",
       "      <td>...</td>\n",
       "      <td>1</td>\n",
       "      <td>17.6</td>\n",
       "      <td>31.8</td>\n",
       "      <td>98.0</td>\n",
       "      <td>65.1</td>\n",
       "      <td>166.0</td>\n",
       "      <td>0</td>\n",
       "      <td>1</td>\n",
       "      <td>0</td>\n",
       "      <td>1967-05-15</td>\n",
       "    </tr>\n",
       "    <tr>\n",
       "      <th>2</th>\n",
       "      <td>1314727123</td>\n",
       "      <td>1952.978141</td>\n",
       "      <td>96a76ec5bbcb1d1562c40b9b972e356d</td>\n",
       "      <td>2012-10-22</td>\n",
       "      <td>2012-11-03</td>\n",
       "      <td>0</td>\n",
       "      <td>0</td>\n",
       "      <td>0</td>\n",
       "      <td>0</td>\n",
       "      <td>0</td>\n",
       "      <td>...</td>\n",
       "      <td>1</td>\n",
       "      <td>17.6</td>\n",
       "      <td>31.8</td>\n",
       "      <td>98.0</td>\n",
       "      <td>65.1</td>\n",
       "      <td>166.0</td>\n",
       "      <td>0</td>\n",
       "      <td>1</td>\n",
       "      <td>0</td>\n",
       "      <td>1967-05-15</td>\n",
       "    </tr>\n",
       "    <tr>\n",
       "      <th>3</th>\n",
       "      <td>1029762870</td>\n",
       "      <td>1244.994422</td>\n",
       "      <td>96a76ec5bbcb1d1562c40b9b972e356d</td>\n",
       "      <td>2012-10-22</td>\n",
       "      <td>2012-11-03</td>\n",
       "      <td>0</td>\n",
       "      <td>0</td>\n",
       "      <td>0</td>\n",
       "      <td>0</td>\n",
       "      <td>0</td>\n",
       "      <td>...</td>\n",
       "      <td>1</td>\n",
       "      <td>17.6</td>\n",
       "      <td>31.8</td>\n",
       "      <td>98.0</td>\n",
       "      <td>65.1</td>\n",
       "      <td>166.0</td>\n",
       "      <td>0</td>\n",
       "      <td>1</td>\n",
       "      <td>0</td>\n",
       "      <td>1967-05-15</td>\n",
       "    </tr>\n",
       "    <tr>\n",
       "      <th>4</th>\n",
       "      <td>2660045161</td>\n",
       "      <td>1032.011951</td>\n",
       "      <td>796de06efdad342d3f3a379dff0bd63c</td>\n",
       "      <td>2014-09-28</td>\n",
       "      <td>2014-10-11</td>\n",
       "      <td>0</td>\n",
       "      <td>0</td>\n",
       "      <td>0</td>\n",
       "      <td>0</td>\n",
       "      <td>0</td>\n",
       "      <td>...</td>\n",
       "      <td>0</td>\n",
       "      <td>16.3</td>\n",
       "      <td>29.1</td>\n",
       "      <td>94.0</td>\n",
       "      <td>72.5</td>\n",
       "      <td>162.0</td>\n",
       "      <td>0</td>\n",
       "      <td>0</td>\n",
       "      <td>0</td>\n",
       "      <td>1973-05-28</td>\n",
       "    </tr>\n",
       "    <tr>\n",
       "      <th>...</th>\n",
       "      <td>...</td>\n",
       "      <td>...</td>\n",
       "      <td>...</td>\n",
       "      <td>...</td>\n",
       "      <td>...</td>\n",
       "      <td>...</td>\n",
       "      <td>...</td>\n",
       "      <td>...</td>\n",
       "      <td>...</td>\n",
       "      <td>...</td>\n",
       "      <td>...</td>\n",
       "      <td>...</td>\n",
       "      <td>...</td>\n",
       "      <td>...</td>\n",
       "      <td>...</td>\n",
       "      <td>...</td>\n",
       "      <td>...</td>\n",
       "      <td>...</td>\n",
       "      <td>...</td>\n",
       "      <td>...</td>\n",
       "      <td>...</td>\n",
       "    </tr>\n",
       "    <tr>\n",
       "      <th>13595</th>\n",
       "      <td>1123494323</td>\n",
       "      <td>663.585265</td>\n",
       "      <td>7373cb1310011241d432d36b25c5bca6</td>\n",
       "      <td>2011-09-17</td>\n",
       "      <td>2011-09-27</td>\n",
       "      <td>0</td>\n",
       "      <td>0</td>\n",
       "      <td>0</td>\n",
       "      <td>0</td>\n",
       "      <td>0</td>\n",
       "      <td>...</td>\n",
       "      <td>1</td>\n",
       "      <td>15.5</td>\n",
       "      <td>29.5</td>\n",
       "      <td>113.0</td>\n",
       "      <td>75.5</td>\n",
       "      <td>182.0</td>\n",
       "      <td>1</td>\n",
       "      <td>0</td>\n",
       "      <td>0</td>\n",
       "      <td>1973-09-14</td>\n",
       "    </tr>\n",
       "    <tr>\n",
       "      <th>13596</th>\n",
       "      <td>8843072066</td>\n",
       "      <td>1324.691516</td>\n",
       "      <td>c607942a9bebf9c61daf2c0da499ddf5</td>\n",
       "      <td>2013-09-16</td>\n",
       "      <td>2013-09-30</td>\n",
       "      <td>0</td>\n",
       "      <td>1</td>\n",
       "      <td>0</td>\n",
       "      <td>0</td>\n",
       "      <td>0</td>\n",
       "      <td>...</td>\n",
       "      <td>1</td>\n",
       "      <td>12.1</td>\n",
       "      <td>29.4</td>\n",
       "      <td>115.0</td>\n",
       "      <td>77.8</td>\n",
       "      <td>175.0</td>\n",
       "      <td>1</td>\n",
       "      <td>1</td>\n",
       "      <td>0</td>\n",
       "      <td>1972-01-04</td>\n",
       "    </tr>\n",
       "    <tr>\n",
       "      <th>13597</th>\n",
       "      <td>2727258154</td>\n",
       "      <td>18386.672482</td>\n",
       "      <td>c607942a9bebf9c61daf2c0da499ddf5</td>\n",
       "      <td>2013-09-16</td>\n",
       "      <td>2013-09-30</td>\n",
       "      <td>0</td>\n",
       "      <td>1</td>\n",
       "      <td>0</td>\n",
       "      <td>0</td>\n",
       "      <td>0</td>\n",
       "      <td>...</td>\n",
       "      <td>1</td>\n",
       "      <td>12.1</td>\n",
       "      <td>29.4</td>\n",
       "      <td>115.0</td>\n",
       "      <td>77.8</td>\n",
       "      <td>175.0</td>\n",
       "      <td>1</td>\n",
       "      <td>1</td>\n",
       "      <td>0</td>\n",
       "      <td>1972-01-04</td>\n",
       "    </tr>\n",
       "    <tr>\n",
       "      <th>13598</th>\n",
       "      <td>38401965</td>\n",
       "      <td>5280.005320</td>\n",
       "      <td>c607942a9bebf9c61daf2c0da499ddf5</td>\n",
       "      <td>2013-09-16</td>\n",
       "      <td>2013-09-30</td>\n",
       "      <td>0</td>\n",
       "      <td>1</td>\n",
       "      <td>0</td>\n",
       "      <td>0</td>\n",
       "      <td>0</td>\n",
       "      <td>...</td>\n",
       "      <td>1</td>\n",
       "      <td>12.1</td>\n",
       "      <td>29.4</td>\n",
       "      <td>115.0</td>\n",
       "      <td>77.8</td>\n",
       "      <td>175.0</td>\n",
       "      <td>1</td>\n",
       "      <td>1</td>\n",
       "      <td>0</td>\n",
       "      <td>1972-01-04</td>\n",
       "    </tr>\n",
       "    <tr>\n",
       "      <th>13599</th>\n",
       "      <td>9020331863</td>\n",
       "      <td>1273.785840</td>\n",
       "      <td>c607942a9bebf9c61daf2c0da499ddf5</td>\n",
       "      <td>2013-09-16</td>\n",
       "      <td>2013-09-30</td>\n",
       "      <td>0</td>\n",
       "      <td>1</td>\n",
       "      <td>0</td>\n",
       "      <td>0</td>\n",
       "      <td>0</td>\n",
       "      <td>...</td>\n",
       "      <td>1</td>\n",
       "      <td>12.1</td>\n",
       "      <td>29.4</td>\n",
       "      <td>115.0</td>\n",
       "      <td>77.8</td>\n",
       "      <td>175.0</td>\n",
       "      <td>1</td>\n",
       "      <td>1</td>\n",
       "      <td>0</td>\n",
       "      <td>1972-01-04</td>\n",
       "    </tr>\n",
       "  </tbody>\n",
       "</table>\n",
       "<p>13600 rows × 32 columns</p>\n",
       "</div>"
      ],
      "text/plain": [
       "          bill_id        amount                        patient_id  \\\n",
       "0        40315104   1552.634830  96a76ec5bbcb1d1562c40b9b972e356d   \n",
       "1      7040712549  27923.446312  96a76ec5bbcb1d1562c40b9b972e356d   \n",
       "2      1314727123   1952.978141  96a76ec5bbcb1d1562c40b9b972e356d   \n",
       "3      1029762870   1244.994422  96a76ec5bbcb1d1562c40b9b972e356d   \n",
       "4      2660045161   1032.011951  796de06efdad342d3f3a379dff0bd63c   \n",
       "...           ...           ...                               ...   \n",
       "13595  1123494323    663.585265  7373cb1310011241d432d36b25c5bca6   \n",
       "13596  8843072066   1324.691516  c607942a9bebf9c61daf2c0da499ddf5   \n",
       "13597  2727258154  18386.672482  c607942a9bebf9c61daf2c0da499ddf5   \n",
       "13598    38401965   5280.005320  c607942a9bebf9c61daf2c0da499ddf5   \n",
       "13599  9020331863   1273.785840  c607942a9bebf9c61daf2c0da499ddf5   \n",
       "\n",
       "      date_of_admission date_of_discharge  medical_history_1  \\\n",
       "0            2012-10-22        2012-11-03                  0   \n",
       "1            2012-10-22        2012-11-03                  0   \n",
       "2            2012-10-22        2012-11-03                  0   \n",
       "3            2012-10-22        2012-11-03                  0   \n",
       "4            2014-09-28        2014-10-11                  0   \n",
       "...                 ...               ...                ...   \n",
       "13595        2011-09-17        2011-09-27                  0   \n",
       "13596        2013-09-16        2013-09-30                  0   \n",
       "13597        2013-09-16        2013-09-30                  0   \n",
       "13598        2013-09-16        2013-09-30                  0   \n",
       "13599        2013-09-16        2013-09-30                  0   \n",
       "\n",
       "       medical_history_2  medical_history_3  medical_history_4  \\\n",
       "0                      0                  0                  0   \n",
       "1                      0                  0                  0   \n",
       "2                      0                  0                  0   \n",
       "3                      0                  0                  0   \n",
       "4                      0                  0                  0   \n",
       "...                  ...                ...                ...   \n",
       "13595                  0                  0                  0   \n",
       "13596                  1                  0                  0   \n",
       "13597                  1                  0                  0   \n",
       "13598                  1                  0                  0   \n",
       "13599                  1                  0                  0   \n",
       "\n",
       "       medical_history_5  ...  symptom_5  lab_result_1  lab_result_2  \\\n",
       "0                      0  ...          1          17.6          31.8   \n",
       "1                      0  ...          1          17.6          31.8   \n",
       "2                      0  ...          1          17.6          31.8   \n",
       "3                      0  ...          1          17.6          31.8   \n",
       "4                      0  ...          0          16.3          29.1   \n",
       "...                  ...  ...        ...           ...           ...   \n",
       "13595                  0  ...          1          15.5          29.5   \n",
       "13596                  0  ...          1          12.1          29.4   \n",
       "13597                  0  ...          1          12.1          29.4   \n",
       "13598                  0  ...          1          12.1          29.4   \n",
       "13599                  0  ...          1          12.1          29.4   \n",
       "\n",
       "       lab_result_3  weight  height  gender  race  resident_status  \\\n",
       "0              98.0    65.1   166.0       0     1                0   \n",
       "1              98.0    65.1   166.0       0     1                0   \n",
       "2              98.0    65.1   166.0       0     1                0   \n",
       "3              98.0    65.1   166.0       0     1                0   \n",
       "4              94.0    72.5   162.0       0     0                0   \n",
       "...             ...     ...     ...     ...   ...              ...   \n",
       "13595         113.0    75.5   182.0       1     0                0   \n",
       "13596         115.0    77.8   175.0       1     1                0   \n",
       "13597         115.0    77.8   175.0       1     1                0   \n",
       "13598         115.0    77.8   175.0       1     1                0   \n",
       "13599         115.0    77.8   175.0       1     1                0   \n",
       "\n",
       "       date_of_birth  \n",
       "0         1967-05-15  \n",
       "1         1967-05-15  \n",
       "2         1967-05-15  \n",
       "3         1967-05-15  \n",
       "4         1973-05-28  \n",
       "...              ...  \n",
       "13595     1973-09-14  \n",
       "13596     1972-01-04  \n",
       "13597     1972-01-04  \n",
       "13598     1972-01-04  \n",
       "13599     1972-01-04  \n",
       "\n",
       "[13600 rows x 32 columns]"
      ]
     },
     "execution_count": 67,
     "metadata": {},
     "output_type": "execute_result"
    }
   ],
   "source": [
    "df"
   ]
  },
  {
   "cell_type": "code",
   "execution_count": 68,
   "id": "e7375ea6",
   "metadata": {},
   "outputs": [],
   "source": [
    "df.to_csv('challenge_data_treated.csv', index = False)"
   ]
  }
 ],
 "metadata": {
  "kernelspec": {
   "display_name": "Python 3",
   "language": "python",
   "name": "python3"
  },
  "language_info": {
   "codemirror_mode": {
    "name": "ipython",
    "version": 3
   },
   "file_extension": ".py",
   "mimetype": "text/x-python",
   "name": "python",
   "nbconvert_exporter": "python",
   "pygments_lexer": "ipython3",
   "version": "3.8.8"
  }
 },
 "nbformat": 4,
 "nbformat_minor": 5
}
